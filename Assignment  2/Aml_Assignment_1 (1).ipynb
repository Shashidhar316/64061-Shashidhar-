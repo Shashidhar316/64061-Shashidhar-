{
  "nbformat": 4,
  "nbformat_minor": 0,
  "metadata": {
    "colab": {
      "provenance": [],
      "machine_shape": "hm"
    },
    "kernelspec": {
      "name": "python3",
      "display_name": "Python 3"
    },
    "language_info": {
      "name": "python"
    },
    "accelerator": "GPU",
    "gpuClass": "standard"
  },
  "cells": [
    {
      "cell_type": "markdown",
      "source": [
        "***The goal of this study is to investigate several strategies for improving the performance of a neural network model using the IMDb dataset. We will alter an existing neural network model and examine the outcomes of various ways such as modifying the number of hidden layers, units, loss function, activation function, and regularization strategies such as dropout.***\n",
        "\n",
        "We utilized the IMDb dataset, which contains good and negative movie reviews. The dataset includes 25,000 movie reviews for training and another 25,000 for testing."
      ],
      "metadata": {
        "id": "--3cBrin1_c6"
      }
    },
    {
      "cell_type": "code",
      "execution_count": 24,
      "metadata": {
        "id": "VhphmzulLgsn"
      },
      "outputs": [],
      "source": [
        "from numpy.random import seed\n",
        "seed(123)\n",
        "from tensorflow.keras.datasets import imdb\n",
        "(train_data, train_labels), (test_data, test_labels) = imdb.load_data(\n",
        "    num_words=10000)"
      ]
    },
    {
      "cell_type": "code",
      "source": [
        "train_data"
      ],
      "metadata": {
        "colab": {
          "base_uri": "https://localhost:8080/"
        },
        "id": "7NP808_WLml1",
        "outputId": "5576976e-4dc2-488a-bf8e-3c4c944c95dd"
      },
      "execution_count": 3,
      "outputs": [
        {
          "output_type": "execute_result",
          "data": {
            "text/plain": [
              "array([list([1, 14, 22, 16, 43, 530, 973, 1622, 1385, 65, 458, 4468, 66, 3941, 4, 173, 36, 256, 5, 25, 100, 43, 838, 112, 50, 670, 2, 9, 35, 480, 284, 5, 150, 4, 172, 112, 167, 2, 336, 385, 39, 4, 172, 4536, 1111, 17, 546, 38, 13, 447, 4, 192, 50, 16, 6, 147, 2025, 19, 14, 22, 4, 1920, 4613, 469, 4, 22, 71, 87, 12, 16, 43, 530, 38, 76, 15, 13, 1247, 4, 22, 17, 515, 17, 12, 16, 626, 18, 2, 5, 62, 386, 12, 8, 316, 8, 106, 5, 4, 2223, 5244, 16, 480, 66, 3785, 33, 4, 130, 12, 16, 38, 619, 5, 25, 124, 51, 36, 135, 48, 25, 1415, 33, 6, 22, 12, 215, 28, 77, 52, 5, 14, 407, 16, 82, 2, 8, 4, 107, 117, 5952, 15, 256, 4, 2, 7, 3766, 5, 723, 36, 71, 43, 530, 476, 26, 400, 317, 46, 7, 4, 2, 1029, 13, 104, 88, 4, 381, 15, 297, 98, 32, 2071, 56, 26, 141, 6, 194, 7486, 18, 4, 226, 22, 21, 134, 476, 26, 480, 5, 144, 30, 5535, 18, 51, 36, 28, 224, 92, 25, 104, 4, 226, 65, 16, 38, 1334, 88, 12, 16, 283, 5, 16, 4472, 113, 103, 32, 15, 16, 5345, 19, 178, 32]),\n",
              "       list([1, 194, 1153, 194, 8255, 78, 228, 5, 6, 1463, 4369, 5012, 134, 26, 4, 715, 8, 118, 1634, 14, 394, 20, 13, 119, 954, 189, 102, 5, 207, 110, 3103, 21, 14, 69, 188, 8, 30, 23, 7, 4, 249, 126, 93, 4, 114, 9, 2300, 1523, 5, 647, 4, 116, 9, 35, 8163, 4, 229, 9, 340, 1322, 4, 118, 9, 4, 130, 4901, 19, 4, 1002, 5, 89, 29, 952, 46, 37, 4, 455, 9, 45, 43, 38, 1543, 1905, 398, 4, 1649, 26, 6853, 5, 163, 11, 3215, 2, 4, 1153, 9, 194, 775, 7, 8255, 2, 349, 2637, 148, 605, 2, 8003, 15, 123, 125, 68, 2, 6853, 15, 349, 165, 4362, 98, 5, 4, 228, 9, 43, 2, 1157, 15, 299, 120, 5, 120, 174, 11, 220, 175, 136, 50, 9, 4373, 228, 8255, 5, 2, 656, 245, 2350, 5, 4, 9837, 131, 152, 491, 18, 2, 32, 7464, 1212, 14, 9, 6, 371, 78, 22, 625, 64, 1382, 9, 8, 168, 145, 23, 4, 1690, 15, 16, 4, 1355, 5, 28, 6, 52, 154, 462, 33, 89, 78, 285, 16, 145, 95]),\n",
              "       list([1, 14, 47, 8, 30, 31, 7, 4, 249, 108, 7, 4, 5974, 54, 61, 369, 13, 71, 149, 14, 22, 112, 4, 2401, 311, 12, 16, 3711, 33, 75, 43, 1829, 296, 4, 86, 320, 35, 534, 19, 263, 4821, 1301, 4, 1873, 33, 89, 78, 12, 66, 16, 4, 360, 7, 4, 58, 316, 334, 11, 4, 1716, 43, 645, 662, 8, 257, 85, 1200, 42, 1228, 2578, 83, 68, 3912, 15, 36, 165, 1539, 278, 36, 69, 2, 780, 8, 106, 14, 6905, 1338, 18, 6, 22, 12, 215, 28, 610, 40, 6, 87, 326, 23, 2300, 21, 23, 22, 12, 272, 40, 57, 31, 11, 4, 22, 47, 6, 2307, 51, 9, 170, 23, 595, 116, 595, 1352, 13, 191, 79, 638, 89, 2, 14, 9, 8, 106, 607, 624, 35, 534, 6, 227, 7, 129, 113]),\n",
              "       ...,\n",
              "       list([1, 11, 6, 230, 245, 6401, 9, 6, 1225, 446, 2, 45, 2174, 84, 8322, 4007, 21, 4, 912, 84, 2, 325, 725, 134, 2, 1715, 84, 5, 36, 28, 57, 1099, 21, 8, 140, 8, 703, 5, 2, 84, 56, 18, 1644, 14, 9, 31, 7, 4, 9406, 1209, 2295, 2, 1008, 18, 6, 20, 207, 110, 563, 12, 8, 2901, 2, 8, 97, 6, 20, 53, 4767, 74, 4, 460, 364, 1273, 29, 270, 11, 960, 108, 45, 40, 29, 2961, 395, 11, 6, 4065, 500, 7, 2, 89, 364, 70, 29, 140, 4, 64, 4780, 11, 4, 2678, 26, 178, 4, 529, 443, 2, 5, 27, 710, 117, 2, 8123, 165, 47, 84, 37, 131, 818, 14, 595, 10, 10, 61, 1242, 1209, 10, 10, 288, 2260, 1702, 34, 2901, 2, 4, 65, 496, 4, 231, 7, 790, 5, 6, 320, 234, 2766, 234, 1119, 1574, 7, 496, 4, 139, 929, 2901, 2, 7750, 5, 4241, 18, 4, 8497, 2, 250, 11, 1818, 7561, 4, 4217, 5408, 747, 1115, 372, 1890, 1006, 541, 9303, 7, 4, 59, 2, 4, 3586, 2]),\n",
              "       list([1, 1446, 7079, 69, 72, 3305, 13, 610, 930, 8, 12, 582, 23, 5, 16, 484, 685, 54, 349, 11, 4120, 2959, 45, 58, 1466, 13, 197, 12, 16, 43, 23, 2, 5, 62, 30, 145, 402, 11, 4131, 51, 575, 32, 61, 369, 71, 66, 770, 12, 1054, 75, 100, 2198, 8, 4, 105, 37, 69, 147, 712, 75, 3543, 44, 257, 390, 5, 69, 263, 514, 105, 50, 286, 1814, 23, 4, 123, 13, 161, 40, 5, 421, 4, 116, 16, 897, 13, 2, 40, 319, 5872, 112, 6700, 11, 4803, 121, 25, 70, 3468, 4, 719, 3798, 13, 18, 31, 62, 40, 8, 7200, 4, 2, 7, 14, 123, 5, 942, 25, 8, 721, 12, 145, 5, 202, 12, 160, 580, 202, 12, 6, 52, 58, 2, 92, 401, 728, 12, 39, 14, 251, 8, 15, 251, 5, 2, 12, 38, 84, 80, 124, 12, 9, 23]),\n",
              "       list([1, 17, 6, 194, 337, 7, 4, 204, 22, 45, 254, 8, 106, 14, 123, 4, 2, 270, 2, 5, 2, 2, 732, 2098, 101, 405, 39, 14, 1034, 4, 1310, 9, 115, 50, 305, 12, 47, 4, 168, 5, 235, 7, 38, 111, 699, 102, 7, 4, 4039, 9245, 9, 24, 6, 78, 1099, 17, 2345, 2, 21, 27, 9685, 6139, 5, 2, 1603, 92, 1183, 4, 1310, 7, 4, 204, 42, 97, 90, 35, 221, 109, 29, 127, 27, 118, 8, 97, 12, 157, 21, 6789, 2, 9, 6, 66, 78, 1099, 4, 631, 1191, 5, 2642, 272, 191, 1070, 6, 7585, 8, 2197, 2, 2, 544, 5, 383, 1271, 848, 1468, 2, 497, 2, 8, 1597, 8778, 2, 21, 60, 27, 239, 9, 43, 8368, 209, 405, 10, 10, 12, 764, 40, 4, 248, 20, 12, 16, 5, 174, 1791, 72, 7, 51, 6, 1739, 22, 4, 204, 131, 9])],\n",
              "      dtype=object)"
            ]
          },
          "metadata": {},
          "execution_count": 3
        }
      ]
    },
    {
      "cell_type": "code",
      "source": [
        "train_labels[0]"
      ],
      "metadata": {
        "colab": {
          "base_uri": "https://localhost:8080/"
        },
        "id": "VCPt_OWZLpfk",
        "outputId": "3c143bf2-c18b-43a0-8b11-6a66d9dc72b0"
      },
      "execution_count": 4,
      "outputs": [
        {
          "output_type": "execute_result",
          "data": {
            "text/plain": [
              "1"
            ]
          },
          "metadata": {},
          "execution_count": 4
        }
      ]
    },
    {
      "cell_type": "code",
      "source": [
        "len(train_labels)"
      ],
      "metadata": {
        "colab": {
          "base_uri": "https://localhost:8080/"
        },
        "id": "uJcbE0XGLr-h",
        "outputId": "b13ae8d6-c023-4fbc-a0d6-9d2d7ab483a8"
      },
      "execution_count": 5,
      "outputs": [
        {
          "output_type": "execute_result",
          "data": {
            "text/plain": [
              "25000"
            ]
          },
          "metadata": {},
          "execution_count": 5
        }
      ]
    },
    {
      "cell_type": "code",
      "source": [
        "len(train_labels)"
      ],
      "metadata": {
        "colab": {
          "base_uri": "https://localhost:8080/"
        },
        "id": "wIo0QcUOLuGb",
        "outputId": "1da88faa-93ff-4227-95ad-b3473f584378"
      },
      "execution_count": 6,
      "outputs": [
        {
          "output_type": "execute_result",
          "data": {
            "text/plain": [
              "25000"
            ]
          },
          "metadata": {},
          "execution_count": 6
        }
      ]
    },
    {
      "cell_type": "code",
      "source": [
        "test_data"
      ],
      "metadata": {
        "colab": {
          "base_uri": "https://localhost:8080/"
        },
        "id": "f42IGAOKLwCg",
        "outputId": "81b7baac-b0db-4b7a-ddd3-378ad360a92f"
      },
      "execution_count": 7,
      "outputs": [
        {
          "output_type": "execute_result",
          "data": {
            "text/plain": [
              "array([list([1, 591, 202, 14, 31, 6, 717, 10, 10, 2, 2, 5, 4, 360, 7, 4, 177, 5760, 394, 354, 4, 123, 9, 1035, 1035, 1035, 10, 10, 13, 92, 124, 89, 488, 7944, 100, 28, 1668, 14, 31, 23, 27, 7479, 29, 220, 468, 8, 124, 14, 286, 170, 8, 157, 46, 5, 27, 239, 16, 179, 2, 38, 32, 25, 7944, 451, 202, 14, 6, 717]),\n",
              "       list([1, 14, 22, 3443, 6, 176, 7, 5063, 88, 12, 2679, 23, 1310, 5, 109, 943, 4, 114, 9, 55, 606, 5, 111, 7, 4, 139, 193, 273, 23, 4, 172, 270, 11, 7216, 2, 4, 8463, 2801, 109, 1603, 21, 4, 22, 3861, 8, 6, 1193, 1330, 10, 10, 4, 105, 987, 35, 841, 2, 19, 861, 1074, 5, 1987, 2, 45, 55, 221, 15, 670, 5304, 526, 14, 1069, 4, 405, 5, 2438, 7, 27, 85, 108, 131, 4, 5045, 5304, 3884, 405, 9, 3523, 133, 5, 50, 13, 104, 51, 66, 166, 14, 22, 157, 9, 4, 530, 239, 34, 8463, 2801, 45, 407, 31, 7, 41, 3778, 105, 21, 59, 299, 12, 38, 950, 5, 4521, 15, 45, 629, 488, 2733, 127, 6, 52, 292, 17, 4, 6936, 185, 132, 1988, 5304, 1799, 488, 2693, 47, 6, 392, 173, 4, 2, 4378, 270, 2352, 4, 1500, 7, 4, 65, 55, 73, 11, 346, 14, 20, 9, 6, 976, 2078, 7, 5293, 861, 2, 5, 4182, 30, 3127, 2, 56, 4, 841, 5, 990, 692, 8, 4, 1669, 398, 229, 10, 10, 13, 2822, 670, 5304, 14, 9, 31, 7, 27, 111, 108, 15, 2033, 19, 7836, 1429, 875, 551, 14, 22, 9, 1193, 21, 45, 4829, 5, 45, 252, 8, 2, 6, 565, 921, 3639, 39, 4, 529, 48, 25, 181, 8, 67, 35, 1732, 22, 49, 238, 60, 135, 1162, 14, 9, 290, 4, 58, 10, 10, 472, 45, 55, 878, 8, 169, 11, 374, 5687, 25, 203, 28, 8, 818, 12, 125, 4, 3077]),\n",
              "       list([1, 111, 748, 4368, 1133, 2, 2, 4, 87, 1551, 1262, 7, 31, 318, 9459, 7, 4, 498, 5076, 748, 63, 29, 5161, 220, 686, 2, 5, 17, 12, 575, 220, 2507, 17, 6, 185, 132, 2, 16, 53, 928, 11, 2, 74, 4, 438, 21, 27, 2, 589, 8, 22, 107, 2, 2, 997, 1638, 8, 35, 2076, 9019, 11, 22, 231, 54, 29, 1706, 29, 100, 2, 2425, 34, 2, 8738, 2, 5, 2, 98, 31, 2122, 33, 6, 58, 14, 3808, 1638, 8, 4, 365, 7, 2789, 3761, 356, 346, 4, 2, 1060, 63, 29, 93, 11, 5421, 11, 2, 33, 6, 58, 54, 1270, 431, 748, 7, 32, 2580, 16, 11, 94, 2, 10, 10, 4, 993, 2, 7, 4, 1766, 2634, 2164, 2, 8, 847, 8, 1450, 121, 31, 7, 27, 86, 2663, 2, 16, 6, 465, 993, 2006, 2, 573, 17, 2, 42, 4, 2, 37, 473, 6, 711, 6, 8869, 7, 328, 212, 70, 30, 258, 11, 220, 32, 7, 108, 21, 133, 12, 9, 55, 465, 849, 3711, 53, 33, 2071, 1969, 37, 70, 1144, 4, 5940, 1409, 74, 476, 37, 62, 91, 1329, 169, 4, 1330, 2, 146, 655, 2212, 5, 258, 12, 184, 2, 546, 5, 849, 2, 7, 4, 22, 1436, 18, 631, 1386, 797, 7, 4, 8712, 71, 348, 425, 4320, 1061, 19, 2, 5, 2, 11, 661, 8, 339, 2, 4, 2455, 2, 7, 4, 1962, 10, 10, 263, 787, 9, 270, 11, 6, 9466, 4, 2, 2, 121, 4, 5437, 26, 4434, 19, 68, 1372, 5, 28, 446, 6, 318, 7149, 8, 67, 51, 36, 70, 81, 8, 4392, 2294, 36, 1197, 8, 2, 2, 18, 6, 711, 4, 9909, 26, 2, 1125, 11, 14, 636, 720, 12, 426, 28, 77, 776, 8, 97, 38, 111, 7489, 6175, 168, 1239, 5189, 137, 2, 18, 27, 173, 9, 2399, 17, 6, 2, 428, 2, 232, 11, 4, 8014, 37, 272, 40, 2708, 247, 30, 656, 6, 2, 54, 2, 3292, 98, 6, 2840, 40, 558, 37, 6093, 98, 4, 2, 1197, 15, 14, 9, 57, 4893, 5, 4659, 6, 275, 711, 7937, 2, 3292, 98, 6, 2, 10, 10, 6639, 19, 14, 2, 267, 162, 711, 37, 5900, 752, 98, 4, 2, 2378, 90, 19, 6, 2, 7, 2, 1810, 2, 4, 4770, 3183, 930, 8, 508, 90, 4, 1317, 8, 4, 2, 17, 2, 3965, 1853, 4, 1494, 8, 4468, 189, 4, 2, 6287, 5774, 4, 4770, 5, 95, 271, 23, 6, 7742, 6063, 2, 5437, 33, 1526, 6, 425, 3155, 2, 4535, 1636, 7, 4, 4669, 2, 469, 4, 4552, 54, 4, 150, 5664, 2, 280, 53, 2, 2, 18, 339, 29, 1978, 27, 7885, 5, 2, 68, 1830, 19, 6571, 2, 4, 1515, 7, 263, 65, 2132, 34, 6, 5680, 7489, 43, 159, 29, 9, 4706, 9, 387, 73, 195, 584, 10, 10, 1069, 4, 58, 810, 54, 14, 6078, 117, 22, 16, 93, 5, 1069, 4, 192, 15, 12, 16, 93, 34, 6, 1766, 2, 33, 4, 5673, 7, 15, 2, 9252, 3286, 325, 12, 62, 30, 776, 8, 67, 14, 17, 6, 2, 44, 148, 687, 2, 203, 42, 203, 24, 28, 69, 2, 6676, 11, 330, 54, 29, 93, 2, 21, 845, 2, 27, 1099, 7, 819, 4, 22, 1407, 17, 6, 2, 787, 7, 2460, 2, 2, 100, 30, 4, 3737, 3617, 3169, 2321, 42, 1898, 11, 4, 3814, 42, 101, 704, 7, 101, 999, 15, 1625, 94, 2926, 180, 5, 9, 9101, 34, 2, 45, 6, 1429, 22, 60, 6, 1220, 31, 11, 94, 6408, 96, 21, 94, 749, 9, 57, 975]),\n",
              "       ...,\n",
              "       list([1, 13, 1408, 15, 8, 135, 14, 9, 35, 32, 46, 394, 20, 62, 30, 5093, 21, 45, 184, 78, 4, 1492, 910, 769, 2290, 2515, 395, 4257, 5, 1454, 11, 119, 2, 89, 1036, 4, 116, 218, 78, 21, 407, 100, 30, 128, 262, 15, 7, 185, 2280, 284, 1842, 2, 37, 315, 4, 226, 20, 272, 2942, 40, 29, 152, 60, 181, 8, 30, 50, 553, 362, 80, 119, 12, 21, 846, 5518]),\n",
              "       list([1, 11, 119, 241, 9, 4, 840, 20, 12, 468, 15, 94, 3684, 562, 791, 39, 4, 86, 107, 8, 97, 14, 31, 33, 4, 2960, 7, 743, 46, 1028, 9, 3531, 5, 4, 768, 47, 8, 79, 90, 145, 164, 162, 50, 6, 501, 119, 7, 9, 4, 78, 232, 15, 16, 224, 11, 4, 333, 20, 4, 985, 200, 5, 2, 5, 9, 1861, 8, 79, 357, 4, 20, 47, 220, 57, 206, 139, 11, 12, 5, 55, 117, 212, 13, 1276, 92, 124, 51, 45, 1188, 71, 536, 13, 520, 14, 20, 6, 2302, 7, 470]),\n",
              "       list([1, 6, 52, 7465, 430, 22, 9, 220, 2594, 8, 28, 2, 519, 3227, 6, 769, 15, 47, 6, 3482, 4067, 8, 114, 5, 33, 222, 31, 55, 184, 704, 5586, 2, 19, 346, 3153, 5, 6, 364, 350, 4, 184, 5586, 9, 133, 1810, 11, 5417, 2, 21, 4, 7298, 2, 570, 50, 2005, 2643, 9, 6, 1249, 17, 6, 2, 2, 21, 17, 6, 1211, 232, 1138, 2249, 29, 266, 56, 96, 346, 194, 308, 9, 194, 21, 29, 218, 1078, 19, 4, 78, 173, 7, 27, 2, 5698, 3406, 718, 2, 9, 6, 6907, 17, 210, 5, 3281, 5677, 47, 77, 395, 14, 172, 173, 18, 2740, 2931, 4517, 82, 127, 27, 173, 11, 6, 392, 217, 21, 50, 9, 57, 65, 12, 2, 53, 40, 35, 390, 7, 11, 4, 3567, 7, 4, 314, 74, 6, 792, 22, 2, 19, 714, 727, 5205, 382, 4, 91, 6533, 439, 19, 14, 20, 9, 1441, 5805, 1118, 4, 756, 25, 124, 4, 31, 12, 16, 93, 804, 34, 2005, 2643])],\n",
              "      dtype=object)"
            ]
          },
          "metadata": {},
          "execution_count": 7
        }
      ]
    },
    {
      "cell_type": "code",
      "source": [
        "test_labels[0]"
      ],
      "metadata": {
        "colab": {
          "base_uri": "https://localhost:8080/"
        },
        "id": "O7CEMLZXLyCo",
        "outputId": "d05213b8-df79-4a64-80b3-a428e7afdcf8"
      },
      "execution_count": 8,
      "outputs": [
        {
          "output_type": "execute_result",
          "data": {
            "text/plain": [
              "0"
            ]
          },
          "metadata": {},
          "execution_count": 8
        }
      ]
    },
    {
      "cell_type": "code",
      "source": [
        "max([max(sequence) for sequence in test_data])"
      ],
      "metadata": {
        "colab": {
          "base_uri": "https://localhost:8080/"
        },
        "id": "zhFlaTvcLz7a",
        "outputId": "c06aaf78-ddb6-459f-fd8a-08056e413d89"
      },
      "execution_count": 9,
      "outputs": [
        {
          "output_type": "execute_result",
          "data": {
            "text/plain": [
              "9999"
            ]
          },
          "metadata": {},
          "execution_count": 9
        }
      ]
    },
    {
      "cell_type": "markdown",
      "source": [
        "#Decoding Reviews to text#"
      ],
      "metadata": {
        "id": "iLFXXireUq4G"
      }
    },
    {
      "cell_type": "code",
      "source": [
        "word_index = imdb.get_word_index()\n",
        "reverse_word_index = dict(\n",
        "    [(value, key) for (key, value) in word_index.items()])\n",
        "decoded_review = \" \".join(\n",
        "    [reverse_word_index.get(i - 3, \"?\") for i in train_data[0]])"
      ],
      "metadata": {
        "id": "fnV1uQ-dL2CB",
        "colab": {
          "base_uri": "https://localhost:8080/"
        },
        "outputId": "3db0f2fc-7eb1-4644-cce0-a79468d87bec"
      },
      "execution_count": 10,
      "outputs": [
        {
          "output_type": "stream",
          "name": "stdout",
          "text": [
            "Downloading data from https://storage.googleapis.com/tensorflow/tf-keras-datasets/imdb_word_index.json\n",
            "1641221/1641221 [==============================] - 0s 0us/step\n"
          ]
        }
      ]
    },
    {
      "cell_type": "code",
      "source": [
        "decoded_review"
      ],
      "metadata": {
        "colab": {
          "base_uri": "https://localhost:8080/",
          "height": 123
        },
        "id": "VnZeAjKML4jI",
        "outputId": "d72d0415-761a-4fd9-f230-f971f947c23c"
      },
      "execution_count": 11,
      "outputs": [
        {
          "output_type": "execute_result",
          "data": {
            "text/plain": [
              "\"? this film was just brilliant casting location scenery story direction everyone's really suited the part they played and you could just imagine being there robert ? is an amazing actor and now the same being director ? father came from the same scottish island as myself so i loved the fact there was a real connection with this film the witty remarks throughout the film were great it was just brilliant so much that i bought the film as soon as it was released for ? and would recommend it to everyone to watch and the fly fishing was amazing really cried at the end it was so sad and you know what they say if you cry at a film it must have been good and this definitely was also ? to the two little boy's that played the ? of norman and paul they were just brilliant children are often left out of the ? list i think because the stars that play them all grown up are such a big profile for the whole film but these children are amazing and should be praised for what they have done don't you think the whole story was so lovely because it was true and was someone's life after all that was shared with us all\""
            ],
            "application/vnd.google.colaboratory.intrinsic+json": {
              "type": "string"
            }
          },
          "metadata": {},
          "execution_count": 11
        }
      ]
    },
    {
      "cell_type": "markdown",
      "source": [
        "##Data preparation##"
      ],
      "metadata": {
        "id": "dAPVSptGltBj"
      }
    },
    {
      "cell_type": "code",
      "source": [
        "import numpy as np\n",
        "def vectorize_sequences(sequences, dimension=10000):\n",
        "    results = np.zeros((len(sequences), dimension))\n",
        "    for i, sequence in enumerate(sequences):\n",
        "        for j in sequence:\n",
        "            results[i, j] = 1.\n",
        "    return results"
      ],
      "metadata": {
        "id": "a2M7f-OoL6iX"
      },
      "execution_count": 12,
      "outputs": []
    },
    {
      "cell_type": "markdown",
      "source": [
        "##Data Vectorization##"
      ],
      "metadata": {
        "id": "NNrHwDzPl0EO"
      }
    },
    {
      "cell_type": "code",
      "source": [
        "x_train = vectorize_sequences(train_data)\n",
        "x_test = vectorize_sequences(test_data)"
      ],
      "metadata": {
        "id": "mtRwsCpyL-vE"
      },
      "execution_count": 13,
      "outputs": []
    },
    {
      "cell_type": "code",
      "source": [],
      "metadata": {
        "id": "NLrAbeM-l2NB"
      },
      "execution_count": 13,
      "outputs": []
    },
    {
      "cell_type": "code",
      "source": [
        "x_train[0]"
      ],
      "metadata": {
        "colab": {
          "base_uri": "https://localhost:8080/"
        },
        "id": "UD5mzZ6UMAof",
        "outputId": "eeb89820-bbc1-449d-ca3b-8e6a701d3faf"
      },
      "execution_count": 14,
      "outputs": [
        {
          "output_type": "execute_result",
          "data": {
            "text/plain": [
              "array([0., 1., 1., ..., 0., 0., 0.])"
            ]
          },
          "metadata": {},
          "execution_count": 14
        }
      ]
    },
    {
      "cell_type": "code",
      "source": [
        "x_test[0]"
      ],
      "metadata": {
        "colab": {
          "base_uri": "https://localhost:8080/"
        },
        "id": "d93wT1LpMCQ_",
        "outputId": "7c12476d-19e8-44b6-a935-bb5574a579a3"
      },
      "execution_count": 15,
      "outputs": [
        {
          "output_type": "execute_result",
          "data": {
            "text/plain": [
              "array([0., 1., 1., ..., 0., 0., 0.])"
            ]
          },
          "metadata": {},
          "execution_count": 15
        }
      ]
    },
    {
      "cell_type": "markdown",
      "source": [
        "##Label Vectorization##"
      ],
      "metadata": {
        "id": "p4qyUK6El6v-"
      }
    },
    {
      "cell_type": "code",
      "source": [
        "y_train = np.asarray(train_labels).astype(\"float32\")\n",
        "y_test = np.asarray(test_labels).astype(\"float32\")"
      ],
      "metadata": {
        "id": "JpUIdTEfMD2j"
      },
      "execution_count": 16,
      "outputs": []
    },
    {
      "cell_type": "markdown",
      "source": [
        "##Building model using relu and compiling it##"
      ],
      "metadata": {
        "id": "zdnML6fVmN-a"
      }
    },
    {
      "cell_type": "code",
      "source": [
        "from tensorflow import keras\n",
        "from tensorflow.keras import layers\n",
        "seed(123)\n",
        "model = keras.Sequential([\n",
        "    layers.Dense(16, activation=\"relu\"),\n",
        "    layers.Dense(16, activation=\"relu\"),\n",
        "    layers.Dense(1, activation=\"sigmoid\")\n",
        "])"
      ],
      "metadata": {
        "id": "vc-uq1eoMFzL"
      },
      "execution_count": 17,
      "outputs": []
    },
    {
      "cell_type": "code",
      "source": [
        "model.compile(optimizer=\"rmsprop\",\n",
        "              loss=\"binary_crossentropy\",\n",
        "              metrics=[\"accuracy\"])"
      ],
      "metadata": {
        "id": "1QSFVxLkMIEG"
      },
      "execution_count": 18,
      "outputs": []
    },
    {
      "cell_type": "code",
      "source": [
        "seed(123)\n",
        "x_val = x_train[:10000]\n",
        "partial_x_train = x_train[10000:]\n",
        "y_val = y_train[:10000]\n",
        "partial_y_train = y_train[10000:]"
      ],
      "metadata": {
        "id": "idBW0wJhMKEm"
      },
      "execution_count": 19,
      "outputs": []
    },
    {
      "cell_type": "code",
      "source": [
        "seed(123)\n",
        "history = model.fit(partial_x_train,\n",
        "                    partial_y_train,\n",
        "                    epochs=20,\n",
        "                    batch_size=512,\n",
        "                    validation_data=(x_val, y_val))"
      ],
      "metadata": {
        "colab": {
          "base_uri": "https://localhost:8080/"
        },
        "id": "EDRYoll8MMBb",
        "outputId": "ec6778b2-dfe2-4062-aaa7-3dd572a8304e"
      },
      "execution_count": 20,
      "outputs": [
        {
          "output_type": "stream",
          "name": "stdout",
          "text": [
            "Epoch 1/20\n",
            "30/30 [==============================] - 7s 78ms/step - loss: 0.5360 - accuracy: 0.7729 - val_loss: 0.4141 - val_accuracy: 0.8661\n",
            "Epoch 2/20\n",
            "30/30 [==============================] - 1s 27ms/step - loss: 0.3419 - accuracy: 0.8921 - val_loss: 0.3274 - val_accuracy: 0.8811\n",
            "Epoch 3/20\n",
            "30/30 [==============================] - 1s 23ms/step - loss: 0.2586 - accuracy: 0.9156 - val_loss: 0.2932 - val_accuracy: 0.8883\n",
            "Epoch 4/20\n",
            "30/30 [==============================] - 1s 23ms/step - loss: 0.2116 - accuracy: 0.9293 - val_loss: 0.2783 - val_accuracy: 0.8890\n",
            "Epoch 5/20\n",
            "30/30 [==============================] - 1s 23ms/step - loss: 0.1772 - accuracy: 0.9420 - val_loss: 0.2739 - val_accuracy: 0.8873\n",
            "Epoch 6/20\n",
            "30/30 [==============================] - 1s 27ms/step - loss: 0.1493 - accuracy: 0.9531 - val_loss: 0.2897 - val_accuracy: 0.8868\n",
            "Epoch 7/20\n",
            "30/30 [==============================] - 1s 22ms/step - loss: 0.1291 - accuracy: 0.9606 - val_loss: 0.2852 - val_accuracy: 0.8873\n",
            "Epoch 8/20\n",
            "30/30 [==============================] - 1s 24ms/step - loss: 0.1142 - accuracy: 0.9641 - val_loss: 0.3033 - val_accuracy: 0.8813\n",
            "Epoch 9/20\n",
            "30/30 [==============================] - 1s 25ms/step - loss: 0.0965 - accuracy: 0.9719 - val_loss: 0.3064 - val_accuracy: 0.8839\n",
            "Epoch 10/20\n",
            "30/30 [==============================] - 1s 22ms/step - loss: 0.0831 - accuracy: 0.9779 - val_loss: 0.3234 - val_accuracy: 0.8805\n",
            "Epoch 11/20\n",
            "30/30 [==============================] - 1s 22ms/step - loss: 0.0719 - accuracy: 0.9807 - val_loss: 0.3380 - val_accuracy: 0.8801\n",
            "Epoch 12/20\n",
            "30/30 [==============================] - 1s 22ms/step - loss: 0.0606 - accuracy: 0.9863 - val_loss: 0.3722 - val_accuracy: 0.8762\n",
            "Epoch 13/20\n",
            "30/30 [==============================] - 1s 23ms/step - loss: 0.0524 - accuracy: 0.9881 - val_loss: 0.3751 - val_accuracy: 0.8794\n",
            "Epoch 14/20\n",
            "30/30 [==============================] - 1s 22ms/step - loss: 0.0455 - accuracy: 0.9909 - val_loss: 0.4160 - val_accuracy: 0.8682\n",
            "Epoch 15/20\n",
            "30/30 [==============================] - 1s 23ms/step - loss: 0.0367 - accuracy: 0.9939 - val_loss: 0.4076 - val_accuracy: 0.8761\n",
            "Epoch 16/20\n",
            "30/30 [==============================] - 1s 25ms/step - loss: 0.0326 - accuracy: 0.9932 - val_loss: 0.4378 - val_accuracy: 0.8717\n",
            "Epoch 17/20\n",
            "30/30 [==============================] - 1s 28ms/step - loss: 0.0300 - accuracy: 0.9941 - val_loss: 0.4491 - val_accuracy: 0.8735\n",
            "Epoch 18/20\n",
            "30/30 [==============================] - 1s 34ms/step - loss: 0.0195 - accuracy: 0.9981 - val_loss: 0.4818 - val_accuracy: 0.8686\n",
            "Epoch 19/20\n",
            "30/30 [==============================] - 1s 25ms/step - loss: 0.0195 - accuracy: 0.9983 - val_loss: 0.4976 - val_accuracy: 0.8726\n",
            "Epoch 20/20\n",
            "30/30 [==============================] - 1s 25ms/step - loss: 0.0162 - accuracy: 0.9987 - val_loss: 0.5174 - val_accuracy: 0.8699\n"
          ]
        }
      ]
    },
    {
      "cell_type": "markdown",
      "source": [
        "***In the training set, there was a loss of 0.5371 and an accuracy of 0.7781, while on the validation set, there was a loss of 0.4241 and an accuracy of 0.8535.***\n",
        "\n",
        "***As the training proceeded, the model's loss and accuracy on the training set increased, and by the conclusion of the 20th epoch, the model had a loss of 0.0175 and an accuracy of 0.9976. At the end of the 20th epoch on the validation set, the model had a loss of 0.5515 and an accuracy of 0.8684. The model is overfitting to the training data.***"
      ],
      "metadata": {
        "id": "U5VOMADhg2UA"
      }
    },
    {
      "cell_type": "code",
      "source": [
        "history_dict = history.history\n",
        "history_dict.keys()"
      ],
      "metadata": {
        "colab": {
          "base_uri": "https://localhost:8080/"
        },
        "id": "guNVMEwFMOVm",
        "outputId": "65050204-9564-4ec7-9b51-986cac5f8174"
      },
      "execution_count": 21,
      "outputs": [
        {
          "output_type": "execute_result",
          "data": {
            "text/plain": [
              "dict_keys(['loss', 'accuracy', 'val_loss', 'val_accuracy'])"
            ]
          },
          "metadata": {},
          "execution_count": 21
        }
      ]
    },
    {
      "cell_type": "markdown",
      "source": [
        "#Plotting the training and validation loss"
      ],
      "metadata": {
        "id": "rsEA_xuCnSDS"
      }
    },
    {
      "cell_type": "code",
      "source": [
        "import matplotlib.pyplot as plt\n",
        "history_dict = history.history\n",
        "loss_values = history_dict[\"loss\"]\n",
        "val_loss_values = history_dict[\"val_loss\"]\n",
        "epochs = range(1, len(loss_values) + 1)\n",
        "plt.plot(epochs, loss_values, \"bo\", label=\"Training loss\")\n",
        "plt.plot(epochs, val_loss_values, \"b\", label=\"Validation loss\")\n",
        "plt.title(\"Training and validation loss\")\n",
        "plt.xlabel(\"Epochs\")\n",
        "plt.ylabel(\"Loss\")\n",
        "plt.legend()\n",
        "plt.show()"
      ],
      "metadata": {
        "colab": {
          "base_uri": "https://localhost:8080/",
          "height": 295
        },
        "id": "l4HsnHIGMQka",
        "outputId": "acf2112c-293d-4dd8-fa5b-684d14f9a1a7"
      },
      "execution_count": 23,
      "outputs": [
        {
          "output_type": "display_data",
          "data": {
            "text/plain": [
              "<Figure size 432x288 with 1 Axes>"
            ],
            "image/png": "[encoded data removed]"
          },
          "metadata": {
            "needs_background": "light"
          }
        }
      ]
    },
    {
      "cell_type": "code",
      "source": [
        "plt.clf()\n",
        "acc = history_dict[\"accuracy\"]\n",
        "val_acc = history_dict[\"val_accuracy\"]\n",
        "plt.plot(epochs, acc, \"bo\", label=\"Training accuracy\")\n",
        "plt.plot(epochs, val_acc, \"b\", label=\"Validation accuracy\")\n",
        "plt.title(\"Training and validation accuracy\")\n",
        "plt.xlabel(\"Epochs\")\n",
        "plt.ylabel(\"Accuracy\")\n",
        "plt.legend()\n",
        "plt.show()"
      ],
      "metadata": {
        "colab": {
          "base_uri": "https://localhost:8080/",
          "height": 295
        },
        "id": "GuH9UlKvMTW9",
        "outputId": "928a79a6-e74f-42a7-db1a-eb81f2613c79"
      },
      "execution_count": 25,
      "outputs": [
        {
          "output_type": "display_data",
          "data": {
            "text/plain": [
              "<Figure size 432x288 with 1 Axes>"
            ],
            "image/png": "[encoded data removed]"
          },
          "metadata": {
            "needs_background": "light"
          }
        }
      ]
    },
    {
      "cell_type": "markdown",
      "source": [
        "***The two graphs imply that overfitting the training data causes the model to become less successful at predicting fresh data after a certain number of epochs. To enhance the model's performance, more analysis, such as modifying the model's hyperparameters or employing regularization techniques, may be required.***"
      ],
      "metadata": {
        "id": "GRbeGfuToRgo"
      }
    },
    {
      "cell_type": "markdown",
      "source": [
        "##Retraining the model##"
      ],
      "metadata": {
        "id": "IDV1ceTqoeqZ"
      }
    },
    {
      "cell_type": "code",
      "source": [
        "np.random.seed(123)\n",
        "model = keras.Sequential([\n",
        "    layers.Dense(16, activation=\"relu\"),\n",
        "    layers.Dense(16, activation=\"relu\"),\n",
        "    layers.Dense(1, activation=\"sigmoid\")\n",
        "])\n",
        "model.compile(optimizer=\"rmsprop\",\n",
        "              loss=\"binary_crossentropy\",\n",
        "              metrics=[\"accuracy\"])\n",
        "model.fit(x_train, y_train, epochs=4, batch_size=512)\n",
        "results = model.evaluate(x_test, y_test)"
      ],
      "metadata": {
        "colab": {
          "base_uri": "https://localhost:8080/"
        },
        "id": "YHepBqKwMVoI",
        "outputId": "873e0596-4797-4836-feca-f582df5fd7f1"
      },
      "execution_count": 26,
      "outputs": [
        {
          "output_type": "stream",
          "name": "stdout",
          "text": [
            "Epoch 1/4\n",
            "49/49 [==============================] - 2s 14ms/step - loss: 0.4702 - accuracy: 0.8110\n",
            "Epoch 2/4\n",
            "49/49 [==============================] - 1s 14ms/step - loss: 0.2798 - accuracy: 0.9018\n",
            "Epoch 3/4\n",
            "49/49 [==============================] - 1s 14ms/step - loss: 0.2177 - accuracy: 0.9227\n",
            "Epoch 4/4\n",
            "49/49 [==============================] - 1s 13ms/step - loss: 0.1800 - accuracy: 0.9359\n",
            "782/782 [==============================] - 2s 3ms/step - loss: 0.2858 - accuracy: 0.8848\n"
          ]
        }
      ]
    },
    {
      "cell_type": "code",
      "source": [
        "results"
      ],
      "metadata": {
        "colab": {
          "base_uri": "https://localhost:8080/"
        },
        "id": "nMnnZwdCMX_S",
        "outputId": "bce4c2f4-320c-4a59-86b4-1eb8c3cecba1"
      },
      "execution_count": 27,
      "outputs": [
        {
          "output_type": "execute_result",
          "data": {
            "text/plain": [
              "[0.28581613302230835, 0.8848400115966797]"
            ]
          },
          "metadata": {},
          "execution_count": 27
        }
      ]
    },
    {
      "cell_type": "markdown",
      "source": [
        "***For the test dataset, the neural network model achieved an accuracy of 88.84%. In the test dataset, the loss value is 0.2828.***"
      ],
      "metadata": {
        "id": "T_Qkw9g-qqow"
      }
    },
    {
      "cell_type": "code",
      "source": [
        "model.predict(x_test)"
      ],
      "metadata": {
        "colab": {
          "base_uri": "https://localhost:8080/"
        },
        "id": "7yvR23n5MZ2a",
        "outputId": "bfaf1396-0ef1-4102-caec-c268119dd29b"
      },
      "execution_count": 28,
      "outputs": [
        {
          "output_type": "stream",
          "name": "stdout",
          "text": [
            "782/782 [==============================] - 2s 2ms/step\n"
          ]
        },
        {
          "output_type": "execute_result",
          "data": {
            "text/plain": [
              "array([[0.27427483],\n",
              "       [0.99989235],\n",
              "       [0.8802244 ],\n",
              "       ...,\n",
              "       [0.12410852],\n",
              "       [0.09835456],\n",
              "       [0.56719357]], dtype=float32)"
            ]
          },
          "metadata": {},
          "execution_count": 28
        }
      ]
    },
    {
      "cell_type": "markdown",
      "source": [
        "##Building a neural network with 1 hidden layer###"
      ],
      "metadata": {
        "id": "Ei5LLFqPon5m"
      }
    },
    {
      "cell_type": "code",
      "source": [
        "seed(123)\n",
        "model1 = keras.Sequential([\n",
        "    layers.Dense(16, activation=\"relu\"),\n",
        "    layers.Dense(1, activation=\"sigmoid\")\n",
        "])\n",
        "\n",
        "model1.compile(optimizer=\"rmsprop\",\n",
        "              loss=\"binary_crossentropy\",\n",
        "              metrics=[\"accuracy\"])\n",
        "\n",
        "x_val = x_train[:10000]\n",
        "partial_x_train = x_train[10000:]\n",
        "\n",
        "y_val = y_train[:10000]\n",
        "partial_y_train = y_train[10000:]\n",
        "\n",
        "\n",
        "history1 = model1.fit(partial_x_train,\n",
        "                    partial_y_train,\n",
        "                    epochs=20,\n",
        "                    batch_size=512,\n",
        "                    validation_data=(x_val, y_val))"
      ],
      "metadata": {
        "colab": {
          "base_uri": "https://localhost:8080/"
        },
        "id": "7kS278YjMcjP",
        "outputId": "b1a1ff40-7674-4584-84b2-3e3462d1b40d"
      },
      "execution_count": 29,
      "outputs": [
        {
          "output_type": "stream",
          "name": "stdout",
          "text": [
            "Epoch 1/20\n",
            "30/30 [==============================] - 2s 56ms/step - loss: 0.5098 - accuracy: 0.7869 - val_loss: 0.3986 - val_accuracy: 0.8649\n",
            "Epoch 2/20\n",
            "30/30 [==============================] - 1s 24ms/step - loss: 0.3313 - accuracy: 0.8948 - val_loss: 0.3349 - val_accuracy: 0.8753\n",
            "Epoch 3/20\n",
            "30/30 [==============================] - 1s 24ms/step - loss: 0.2626 - accuracy: 0.9171 - val_loss: 0.3003 - val_accuracy: 0.8863\n",
            "Epoch 4/20\n",
            "30/30 [==============================] - 1s 26ms/step - loss: 0.2218 - accuracy: 0.9278 - val_loss: 0.2841 - val_accuracy: 0.8893\n",
            "Epoch 5/20\n",
            "30/30 [==============================] - 1s 41ms/step - loss: 0.1932 - accuracy: 0.9388 - val_loss: 0.2834 - val_accuracy: 0.8858\n",
            "Epoch 6/20\n",
            "30/30 [==============================] - 1s 25ms/step - loss: 0.1728 - accuracy: 0.9475 - val_loss: 0.2749 - val_accuracy: 0.8878\n",
            "Epoch 7/20\n",
            "30/30 [==============================] - 1s 24ms/step - loss: 0.1555 - accuracy: 0.9515 - val_loss: 0.2819 - val_accuracy: 0.8857\n",
            "Epoch 8/20\n",
            "30/30 [==============================] - 1s 23ms/step - loss: 0.1417 - accuracy: 0.9575 - val_loss: 0.2792 - val_accuracy: 0.8870\n",
            "Epoch 9/20\n",
            "30/30 [==============================] - 1s 26ms/step - loss: 0.1273 - accuracy: 0.9636 - val_loss: 0.2909 - val_accuracy: 0.8811\n",
            "Epoch 10/20\n",
            "30/30 [==============================] - 1s 23ms/step - loss: 0.1177 - accuracy: 0.9675 - val_loss: 0.2900 - val_accuracy: 0.8852\n",
            "Epoch 11/20\n",
            "30/30 [==============================] - 1s 25ms/step - loss: 0.1085 - accuracy: 0.9698 - val_loss: 0.2970 - val_accuracy: 0.8850\n",
            "Epoch 12/20\n",
            "30/30 [==============================] - 1s 23ms/step - loss: 0.0992 - accuracy: 0.9733 - val_loss: 0.3068 - val_accuracy: 0.8811\n",
            "Epoch 13/20\n",
            "30/30 [==============================] - 1s 24ms/step - loss: 0.0922 - accuracy: 0.9766 - val_loss: 0.3111 - val_accuracy: 0.8822\n",
            "Epoch 14/20\n",
            "30/30 [==============================] - 1s 25ms/step - loss: 0.0848 - accuracy: 0.9791 - val_loss: 0.3232 - val_accuracy: 0.8784\n",
            "Epoch 15/20\n",
            "30/30 [==============================] - 1s 22ms/step - loss: 0.0781 - accuracy: 0.9821 - val_loss: 0.3362 - val_accuracy: 0.8754\n",
            "Epoch 16/20\n",
            "30/30 [==============================] - 1s 25ms/step - loss: 0.0723 - accuracy: 0.9843 - val_loss: 0.3367 - val_accuracy: 0.8799\n",
            "Epoch 17/20\n",
            "30/30 [==============================] - 1s 22ms/step - loss: 0.0669 - accuracy: 0.9863 - val_loss: 0.3523 - val_accuracy: 0.8743\n",
            "Epoch 18/20\n",
            "30/30 [==============================] - 1s 23ms/step - loss: 0.0619 - accuracy: 0.9876 - val_loss: 0.3640 - val_accuracy: 0.8736\n",
            "Epoch 19/20\n",
            "30/30 [==============================] - 1s 23ms/step - loss: 0.0576 - accuracy: 0.9901 - val_loss: 0.3668 - val_accuracy: 0.8760\n",
            "Epoch 20/20\n",
            "30/30 [==============================] - 1s 36ms/step - loss: 0.0531 - accuracy: 0.9902 - val_loss: 0.3765 - val_accuracy: 0.8766\n"
          ]
        }
      ]
    },
    {
      "cell_type": "code",
      "source": [
        "history_dict = history1.history\n",
        "history_dict.keys()"
      ],
      "metadata": {
        "colab": {
          "base_uri": "https://localhost:8080/"
        },
        "id": "OtfAMOEAMhtS",
        "outputId": "af81dc7d-1a97-4aa0-8985-064c607afb3d"
      },
      "execution_count": 30,
      "outputs": [
        {
          "output_type": "execute_result",
          "data": {
            "text/plain": [
              "dict_keys(['loss', 'accuracy', 'val_loss', 'val_accuracy'])"
            ]
          },
          "metadata": {},
          "execution_count": 30
        }
      ]
    },
    {
      "cell_type": "code",
      "source": [
        "import matplotlib.pyplot as plt\n",
        "history_dict = history1.history\n",
        "loss_values = history_dict[\"loss\"]\n",
        "val_loss_values = history_dict[\"val_loss\"]\n",
        "epochs = range(1, len(loss_values) + 1)\n",
        "#Plotting graph between Training and Validation loss\n",
        "plt.plot(epochs, loss_values, \"ro\", label=\"Training loss\")\n",
        "plt.plot(epochs, val_loss_values, \"r\", label=\"Validation loss\")\n",
        "plt.title(\"Training and validation loss\")\n",
        "plt.xlabel(\"Epochs\")\n",
        "plt.ylabel(\"Loss\")\n",
        "plt.legend()\n",
        "plt.show()\n",
        "\n",
        "#Plotting graph between Training and Validation Accuracy\n",
        "plt.clf()\n",
        "acc = history_dict[\"accuracy\"]\n",
        "val_acc = history_dict[\"val_accuracy\"]\n",
        "plt.plot(epochs, acc, \"ro\", label=\"Training accuracy\")\n",
        "plt.plot(epochs, val_acc, \"r\", label=\"Validation accuracy\")\n",
        "plt.title(\"Training and validation accuracy\")\n",
        "plt.xlabel(\"Epochs\")\n",
        "plt.ylabel(\"Accuracy\")\n",
        "plt.legend()\n",
        "plt.show()"
      ],
      "metadata": {
        "colab": {
          "base_uri": "https://localhost:8080/",
          "height": 573
        },
        "id": "4ZLmbxUzMkDs",
        "outputId": "9eccf2b1-a83d-4e2d-c38e-b48a0051e14c"
      },
      "execution_count": 31,
      "outputs": [
        {
          "output_type": "display_data",
          "data": {
            "text/plain": [
              "<Figure size 432x288 with 1 Axes>"
            ],
            "image/png": "[encoded data removed]"
          },
          "metadata": {
            "needs_background": "light"
          }
        },
        {
          "output_type": "display_data",
          "data": {
            "text/plain": [
              "<Figure size 432x288 with 1 Axes>"
            ],
            "image/png": "[encoded data removed]"
          },
          "metadata": {
            "needs_background": "light"
          }
        }
      ]
    },
    {
      "cell_type": "code",
      "source": [
        "np.random.seed(123)\n",
        "model1 = keras.Sequential([\n",
        "    layers.Dense(16, activation=\"relu\"),\n",
        "    layers.Dense(1, activation=\"sigmoid\")\n",
        "])\n",
        "\n",
        "model1.compile(optimizer=\"rmsprop\",\n",
        "              loss=\"binary_crossentropy\",\n",
        "              metrics=[\"accuracy\"])\n",
        "model1.fit(x_train, y_train, epochs=5, batch_size=512)\n",
        "results1 = model1.evaluate(x_test, y_test)"
      ],
      "metadata": {
        "colab": {
          "base_uri": "https://localhost:8080/"
        },
        "id": "wVMlAOpYMor1",
        "outputId": "000654bc-9499-4b71-b51d-84ee463fb21d"
      },
      "execution_count": 32,
      "outputs": [
        {
          "output_type": "stream",
          "name": "stdout",
          "text": [
            "Epoch 1/5\n",
            "49/49 [==============================] - 1s 13ms/step - loss: 0.4866 - accuracy: 0.8173\n",
            "Epoch 2/5\n",
            "49/49 [==============================] - 1s 13ms/step - loss: 0.3145 - accuracy: 0.8949\n",
            "Epoch 3/5\n",
            "49/49 [==============================] - 1s 13ms/step - loss: 0.2527 - accuracy: 0.9119\n",
            "Epoch 4/5\n",
            "49/49 [==============================] - 1s 13ms/step - loss: 0.2194 - accuracy: 0.9233\n",
            "Epoch 5/5\n",
            "49/49 [==============================] - 1s 13ms/step - loss: 0.1971 - accuracy: 0.9316\n",
            "782/782 [==============================] - 3s 3ms/step - loss: 0.2764 - accuracy: 0.8904\n"
          ]
        }
      ]
    },
    {
      "cell_type": "code",
      "source": [
        "results1"
      ],
      "metadata": {
        "colab": {
          "base_uri": "https://localhost:8080/"
        },
        "id": "A4Nm1jDaMqlO",
        "outputId": "6c64e8fe-5774-4629-eb9c-728d104162da"
      },
      "execution_count": null,
      "outputs": [
        {
          "output_type": "execute_result",
          "data": {
            "text/plain": [
              "[0.27873992919921875, 0.8882399797439575]"
            ]
          },
          "metadata": {},
          "execution_count": 30
        }
      ]
    },
    {
      "cell_type": "markdown",
      "source": [
        "***The test set has a loss of 0.2787 and an accuracy of 88.82%.***\n",
        "\n"
      ],
      "metadata": {
        "id": "6akQ67QLruBj"
      }
    },
    {
      "cell_type": "code",
      "source": [
        "model1.predict(x_test)"
      ],
      "metadata": {
        "id": "_QJSfihlMtDG"
      },
      "execution_count": null,
      "outputs": []
    },
    {
      "cell_type": "markdown",
      "source": [
        "***Creating a neural network with three hidden layers***"
      ],
      "metadata": {
        "id": "pnS46OoEr0yA"
      }
    },
    {
      "cell_type": "code",
      "source": [
        "np.random.seed(123)\n",
        "model_3 = keras.Sequential([\n",
        "    layers.Dense(16, activation=\"relu\"),\n",
        "    layers.Dense(16, activation=\"relu\"),\n",
        "    layers.Dense(16, activation=\"relu\"),\n",
        "    layers.Dense(1, activation=\"sigmoid\")\n",
        "])\n",
        "model_3.compile(optimizer=\"rmsprop\",\n",
        "              loss=\"binary_crossentropy\",\n",
        "              metrics=[\"accuracy\"])\n",
        "x_val = x_train[:10000]\n",
        "partial_x_train = x_train[10000:]\n",
        "\n",
        "y_val = y_train[:10000]\n",
        "partial_y_train = y_train[10000:]\n",
        "\n",
        "history3 = model_3.fit(partial_x_train,\n",
        "                    partial_y_train,\n",
        "                    epochs=20,\n",
        "                    batch_size=512,\n",
        "                    validation_data=(x_val, y_val))"
      ],
      "metadata": {
        "colab": {
          "base_uri": "https://localhost:8080/"
        },
        "id": "vTCapoFiMvjb",
        "outputId": "0ccf7ab6-3b6d-4ff6-87b7-daf09697e822"
      },
      "execution_count": null,
      "outputs": [
        {
          "output_type": "stream",
          "name": "stdout",
          "text": [
            "Epoch 1/20\n",
            "30/30 [==============================] - 2s 48ms/step - loss: 0.5542 - accuracy: 0.7633 - val_loss: 0.4196 - val_accuracy: 0.8527\n",
            "Epoch 2/20\n",
            "30/30 [==============================] - 1s 18ms/step - loss: 0.3277 - accuracy: 0.8941 - val_loss: 0.3379 - val_accuracy: 0.8627\n",
            "Epoch 3/20\n",
            "30/30 [==============================] - 1s 18ms/step - loss: 0.2379 - accuracy: 0.9177 - val_loss: 0.2820 - val_accuracy: 0.8872\n",
            "Epoch 4/20\n",
            "30/30 [==============================] - 1s 18ms/step - loss: 0.1869 - accuracy: 0.9362 - val_loss: 0.2919 - val_accuracy: 0.8835\n",
            "Epoch 5/20\n",
            "30/30 [==============================] - 1s 19ms/step - loss: 0.1558 - accuracy: 0.9467 - val_loss: 0.2881 - val_accuracy: 0.8862\n",
            "Epoch 6/20\n",
            "30/30 [==============================] - 1s 18ms/step - loss: 0.1294 - accuracy: 0.9573 - val_loss: 0.2966 - val_accuracy: 0.8834\n",
            "Epoch 7/20\n",
            "30/30 [==============================] - 1s 18ms/step - loss: 0.1143 - accuracy: 0.9617 - val_loss: 0.3393 - val_accuracy: 0.8748\n",
            "Epoch 8/20\n",
            "30/30 [==============================] - 1s 18ms/step - loss: 0.0928 - accuracy: 0.9701 - val_loss: 0.3321 - val_accuracy: 0.8822\n",
            "Epoch 9/20\n",
            "30/30 [==============================] - 1s 19ms/step - loss: 0.0798 - accuracy: 0.9761 - val_loss: 0.3722 - val_accuracy: 0.8771\n",
            "Epoch 10/20\n",
            "30/30 [==============================] - 1s 18ms/step - loss: 0.0671 - accuracy: 0.9813 - val_loss: 0.4005 - val_accuracy: 0.8692\n",
            "Epoch 11/20\n",
            "30/30 [==============================] - 1s 19ms/step - loss: 0.0524 - accuracy: 0.9871 - val_loss: 0.4132 - val_accuracy: 0.8737\n",
            "Epoch 12/20\n",
            "30/30 [==============================] - 1s 17ms/step - loss: 0.0517 - accuracy: 0.9847 - val_loss: 0.5173 - val_accuracy: 0.8535\n",
            "Epoch 13/20\n",
            "30/30 [==============================] - 1s 18ms/step - loss: 0.0417 - accuracy: 0.9887 - val_loss: 0.4562 - val_accuracy: 0.8745\n",
            "Epoch 14/20\n",
            "30/30 [==============================] - 1s 18ms/step - loss: 0.0335 - accuracy: 0.9917 - val_loss: 0.4843 - val_accuracy: 0.8731\n",
            "Epoch 15/20\n",
            "30/30 [==============================] - 1s 18ms/step - loss: 0.0270 - accuracy: 0.9937 - val_loss: 0.5195 - val_accuracy: 0.8705\n",
            "Epoch 16/20\n",
            "30/30 [==============================] - 1s 18ms/step - loss: 0.0261 - accuracy: 0.9939 - val_loss: 0.5398 - val_accuracy: 0.8711\n",
            "Epoch 17/20\n",
            "30/30 [==============================] - 1s 19ms/step - loss: 0.0247 - accuracy: 0.9933 - val_loss: 0.5692 - val_accuracy: 0.8692\n",
            "Epoch 18/20\n",
            "30/30 [==============================] - 1s 19ms/step - loss: 0.0118 - accuracy: 0.9987 - val_loss: 0.8118 - val_accuracy: 0.8348\n",
            "Epoch 19/20\n",
            "30/30 [==============================] - 1s 19ms/step - loss: 0.0121 - accuracy: 0.9979 - val_loss: 0.6290 - val_accuracy: 0.8693\n",
            "Epoch 20/20\n",
            "30/30 [==============================] - 1s 17ms/step - loss: 0.0189 - accuracy: 0.9949 - val_loss: 0.6521 - val_accuracy: 0.8676\n"
          ]
        }
      ]
    },
    {
      "cell_type": "code",
      "source": [
        "history_dict3 = history3.history\n",
        "history_dict3.keys()"
      ],
      "metadata": {
        "colab": {
          "base_uri": "https://localhost:8080/"
        },
        "id": "g0hs0594MzT2",
        "outputId": "f20459d7-b275-4c7f-a371-e479c2685544"
      },
      "execution_count": null,
      "outputs": [
        {
          "output_type": "execute_result",
          "data": {
            "text/plain": [
              "dict_keys(['loss', 'accuracy', 'val_loss', 'val_accuracy'])"
            ]
          },
          "metadata": {},
          "execution_count": 33
        }
      ]
    },
    {
      "cell_type": "code",
      "source": [
        "loss_values = history_dict3[\"loss\"]\n",
        "val_loss_values = history_dict3[\"val_loss\"]\n",
        "epochs = range(1, len(loss_values) + 1)\n",
        "plt.plot(epochs, loss_values, \"go\", label=\"Training loss\")\n",
        "plt.plot(epochs, val_loss_values, \"g\", label=\"Validation loss\")\n",
        "plt.title(\"Training and validation loss\")\n",
        "plt.xlabel(\"Epochs\")\n",
        "plt.ylabel(\"Loss\")\n",
        "plt.legend()\n",
        "plt.show()"
      ],
      "metadata": {
        "colab": {
          "base_uri": "https://localhost:8080/",
          "height": 295
        },
        "id": "5HTuDjE6M1-j",
        "outputId": "c5825d9b-5850-4ae9-c0be-d7240a4a652e"
      },
      "execution_count": null,
      "outputs": [
        {
          "output_type": "display_data",
          "data": {
            "text/plain": [
              "<Figure size 432x288 with 1 Axes>"
            ],
            "image/png": "[encoded data removed]"
          },
          "metadata": {
            "needs_background": "light"
          }
        }
      ]
    },
    {
      "cell_type": "code",
      "source": [
        "plt.clf()\n",
        "acc = history_dict3[\"accuracy\"]\n",
        "val_acc = history_dict3[\"val_accuracy\"]\n",
        "plt.plot(epochs, acc, \"go\", label=\"Training acc\")\n",
        "plt.plot(epochs, val_acc, \"g\", label=\"Validation acc\")\n",
        "plt.title(\"Training and validation accuracy\")\n",
        "plt.xlabel(\"Epochs\")\n",
        "plt.ylabel(\"Accuracy\")\n",
        "plt.legend()\n",
        "plt.show()"
      ],
      "metadata": {
        "colab": {
          "base_uri": "https://localhost:8080/",
          "height": 295
        },
        "id": "IbIlBNoNM4PC",
        "outputId": "daab4ff8-49a6-42c7-8cc6-4dbdcd37cf7d"
      },
      "execution_count": null,
      "outputs": [
        {
          "output_type": "display_data",
          "data": {
            "text/plain": [
              "<Figure size 432x288 with 1 Axes>"
            ],
            "image/png": "[encoded data removed]"
          },
          "metadata": {
            "needs_background": "light"
          }
        }
      ]
    },
    {
      "cell_type": "code",
      "source": [
        "np.random.seed(123)\n",
        "model_3 = keras.Sequential([\n",
        "    layers.Dense(16, activation=\"relu\"),\n",
        "    layers.Dense(16, activation=\"relu\"),\n",
        "    layers.Dense(16, activation=\"relu\"),\n",
        "    layers.Dense(1, activation=\"sigmoid\")\n",
        "])\n",
        "\n",
        "\n",
        "model_3.compile(optimizer='rmsprop',\n",
        "              loss='binary_crossentropy',\n",
        "              metrics=['accuracy'])\n",
        "\n",
        "model_3.fit(x_train, y_train, epochs=3, batch_size=512)\n",
        "results_3 = model_3.evaluate(x_test, y_test)\n"
      ],
      "metadata": {
        "colab": {
          "base_uri": "https://localhost:8080/"
        },
        "id": "VtvQwe69M6NX",
        "outputId": "955a8b82-c04f-4da6-9e74-0e70ccb212fa"
      },
      "execution_count": null,
      "outputs": [
        {
          "output_type": "stream",
          "name": "stdout",
          "text": [
            "Epoch 1/3\n",
            "49/49 [==============================] - 2s 11ms/step - loss: 0.4895 - accuracy: 0.7990\n",
            "Epoch 2/3\n",
            "49/49 [==============================] - 1s 11ms/step - loss: 0.2729 - accuracy: 0.9022\n",
            "Epoch 3/3\n",
            "49/49 [==============================] - 1s 11ms/step - loss: 0.2141 - accuracy: 0.9208\n",
            "782/782 [==============================] - 2s 2ms/step - loss: 0.2839 - accuracy: 0.8866\n"
          ]
        }
      ]
    },
    {
      "cell_type": "markdown",
      "source": [
        "***The test set has a loss of 0.2839 and an accuracy of 88.66%.***"
      ],
      "metadata": {
        "id": "0oxIWk2PsNIr"
      }
    },
    {
      "cell_type": "code",
      "source": [
        "results_3"
      ],
      "metadata": {
        "colab": {
          "base_uri": "https://localhost:8080/"
        },
        "id": "R4Xl7TP9M-S1",
        "outputId": "48487e68-59a2-4999-a980-62b42bb54515"
      },
      "execution_count": null,
      "outputs": [
        {
          "output_type": "execute_result",
          "data": {
            "text/plain": [
              "[0.2839148938655853, 0.8866000175476074]"
            ]
          },
          "metadata": {},
          "execution_count": 37
        }
      ]
    },
    {
      "cell_type": "code",
      "source": [
        "model_3.predict(x_test)"
      ],
      "metadata": {
        "colab": {
          "base_uri": "https://localhost:8080/"
        },
        "id": "Ur9lOg-HNA1E",
        "outputId": "e1c848e0-c392-474f-8ba7-4134f0e4a95e"
      },
      "execution_count": null,
      "outputs": [
        {
          "output_type": "stream",
          "name": "stdout",
          "text": [
            "782/782 [==============================] - 1s 2ms/step\n"
          ]
        },
        {
          "output_type": "execute_result",
          "data": {
            "text/plain": [
              "array([[0.26020768],\n",
              "       [0.9987081 ],\n",
              "       [0.7886101 ],\n",
              "       ...,\n",
              "       [0.1106073 ],\n",
              "       [0.0808426 ],\n",
              "       [0.5625424 ]], dtype=float32)"
            ]
          },
          "metadata": {},
          "execution_count": 38
        }
      ]
    },
    {
      "cell_type": "markdown",
      "source": [
        "***As the number of layers is increased, the model's accuracy does not improve considerably. Yet, the model with three layers is more accurate than the other two.***\n",
        "\n",
        "***You must select the number of units in the hidden layers while designing the overall architecture of your neural network.***\n",
        "\n",
        "***Despite the fact that these layers do not directly interact with the outside world, they have a significant influence on the outcome.***"
      ],
      "metadata": {
        "id": "1rVW5mwJtMGZ"
      }
    },
    {
      "cell_type": "markdown",
      "source": [
        "##Building Neural Network with 32 units."
      ],
      "metadata": {
        "id": "fUUol0TjtTtR"
      }
    },
    {
      "cell_type": "code",
      "source": [
        "np.random.seed(123)\n",
        "model_32 = keras.Sequential([\n",
        "    layers.Dense(32, activation=\"relu\"),\n",
        "    layers.Dense(32, activation=\"relu\"),\n",
        "    layers.Dense(1, activation=\"sigmoid\")\n",
        "])\n",
        "#model compilation\n",
        "model_32.compile(optimizer=\"rmsprop\",\n",
        "              loss=\"binary_crossentropy\",\n",
        "              metrics=[\"accuracy\"])\n",
        "#model validation\n",
        "x_val = x_train[:10000]\n",
        "partial_x_train = x_train[10000:]\n",
        "\n",
        "y_val = y_train[:10000]\n",
        "partial_y_train = y_train[10000:]\n",
        "\n",
        "np.random.seed(123)\n",
        "history32 = model_32.fit(partial_x_train,\n",
        "                    partial_y_train,\n",
        "                    epochs=20,\n",
        "                    batch_size=512,\n",
        "                    validation_data=(x_val, y_val))"
      ],
      "metadata": {
        "colab": {
          "base_uri": "https://localhost:8080/"
        },
        "id": "mA0CahIBNC1g",
        "outputId": "27eaf93e-ce20-46f1-f4e3-5f7095ff5283"
      },
      "execution_count": null,
      "outputs": [
        {
          "output_type": "stream",
          "name": "stdout",
          "text": [
            "Epoch 1/20\n",
            "30/30 [==============================] - 2s 47ms/step - loss: 0.4958 - accuracy: 0.7890 - val_loss: 0.3888 - val_accuracy: 0.8463\n",
            "Epoch 2/20\n",
            "30/30 [==============================] - 1s 18ms/step - loss: 0.2993 - accuracy: 0.8946 - val_loss: 0.3098 - val_accuracy: 0.8770\n",
            "Epoch 3/20\n",
            "30/30 [==============================] - 1s 18ms/step - loss: 0.2268 - accuracy: 0.9203 - val_loss: 0.2769 - val_accuracy: 0.8898\n",
            "Epoch 4/20\n",
            "30/30 [==============================] - 1s 18ms/step - loss: 0.1850 - accuracy: 0.9354 - val_loss: 0.2900 - val_accuracy: 0.8855\n",
            "Epoch 5/20\n",
            "30/30 [==============================] - 1s 18ms/step - loss: 0.1573 - accuracy: 0.9442 - val_loss: 0.3635 - val_accuracy: 0.8583\n",
            "Epoch 6/20\n",
            "30/30 [==============================] - 1s 18ms/step - loss: 0.1320 - accuracy: 0.9555 - val_loss: 0.2938 - val_accuracy: 0.8840\n",
            "Epoch 7/20\n",
            "30/30 [==============================] - 1s 18ms/step - loss: 0.1104 - accuracy: 0.9651 - val_loss: 0.3522 - val_accuracy: 0.8753\n",
            "Epoch 8/20\n",
            "30/30 [==============================] - 1s 17ms/step - loss: 0.0981 - accuracy: 0.9691 - val_loss: 0.3263 - val_accuracy: 0.8808\n",
            "Epoch 9/20\n",
            "30/30 [==============================] - 1s 18ms/step - loss: 0.0822 - accuracy: 0.9749 - val_loss: 0.4331 - val_accuracy: 0.8573\n",
            "Epoch 10/20\n",
            "30/30 [==============================] - 1s 17ms/step - loss: 0.0705 - accuracy: 0.9789 - val_loss: 0.3890 - val_accuracy: 0.8709\n",
            "Epoch 11/20\n",
            "30/30 [==============================] - 1s 18ms/step - loss: 0.0607 - accuracy: 0.9823 - val_loss: 0.3955 - val_accuracy: 0.8775\n",
            "Epoch 12/20\n",
            "30/30 [==============================] - 1s 19ms/step - loss: 0.0529 - accuracy: 0.9840 - val_loss: 0.4088 - val_accuracy: 0.8776\n",
            "Epoch 13/20\n",
            "30/30 [==============================] - 1s 23ms/step - loss: 0.0418 - accuracy: 0.9883 - val_loss: 0.4385 - val_accuracy: 0.8749\n",
            "Epoch 14/20\n",
            "30/30 [==============================] - 1s 18ms/step - loss: 0.0433 - accuracy: 0.9874 - val_loss: 0.4572 - val_accuracy: 0.8743\n",
            "Epoch 15/20\n",
            "30/30 [==============================] - 1s 17ms/step - loss: 0.0290 - accuracy: 0.9935 - val_loss: 0.5133 - val_accuracy: 0.8718\n",
            "Epoch 16/20\n",
            "30/30 [==============================] - 1s 18ms/step - loss: 0.0175 - accuracy: 0.9985 - val_loss: 0.5386 - val_accuracy: 0.8655\n",
            "Epoch 17/20\n",
            "30/30 [==============================] - 1s 17ms/step - loss: 0.0243 - accuracy: 0.9946 - val_loss: 0.6322 - val_accuracy: 0.8535\n",
            "Epoch 18/20\n",
            "30/30 [==============================] - 1s 18ms/step - loss: 0.0221 - accuracy: 0.9943 - val_loss: 0.5958 - val_accuracy: 0.8674\n",
            "Epoch 19/20\n",
            "30/30 [==============================] - 1s 18ms/step - loss: 0.0099 - accuracy: 0.9995 - val_loss: 0.5834 - val_accuracy: 0.8715\n",
            "Epoch 20/20\n",
            "30/30 [==============================] - 1s 18ms/step - loss: 0.0159 - accuracy: 0.9961 - val_loss: 0.6040 - val_accuracy: 0.8714\n"
          ]
        }
      ]
    },
    {
      "cell_type": "code",
      "source": [
        "history_dict32 = history32.history\n",
        "history_dict32.keys()"
      ],
      "metadata": {
        "colab": {
          "base_uri": "https://localhost:8080/"
        },
        "id": "Me5NnUdENFP_",
        "outputId": "8d3ec281-5c65-46ee-e1a5-67911ba8e793"
      },
      "execution_count": null,
      "outputs": [
        {
          "output_type": "execute_result",
          "data": {
            "text/plain": [
              "dict_keys(['loss', 'accuracy', 'val_loss', 'val_accuracy'])"
            ]
          },
          "metadata": {},
          "execution_count": 40
        }
      ]
    },
    {
      "cell_type": "code",
      "source": [
        "loss_values = history_dict32[\"loss\"]\n",
        "val_loss_values = history_dict32[\"val_loss\"]\n",
        "epochs = range(1, len(loss_values) + 1)\n",
        "plt.plot(epochs, loss_values, \"bo\", label=\"Training loss\")\n",
        "plt.plot(epochs, val_loss_values, \"b\", label=\"Validation loss\")\n",
        "plt.title(\"Training and validation loss\")\n",
        "plt.xlabel(\"Epochs\")\n",
        "plt.ylabel(\"Loss\")\n",
        "plt.legend()\n",
        "plt.show()"
      ],
      "metadata": {
        "colab": {
          "base_uri": "https://localhost:8080/",
          "height": 295
        },
        "id": "8yTV8SBYNIG0",
        "outputId": "9698098d-3c8d-4d70-c974-91c4c41d5c54"
      },
      "execution_count": null,
      "outputs": [
        {
          "output_type": "display_data",
          "data": {
            "text/plain": [
              "<Figure size 432x288 with 1 Axes>"
            ],
            "image/png": "[encoded data removed]"
          },
          "metadata": {
            "needs_background": "light"
          }
        }
      ]
    },
    {
      "cell_type": "code",
      "source": [
        "plt.clf()\n",
        "acc = history_dict32[\"accuracy\"]\n",
        "val_acc = history_dict32[\"val_accuracy\"]\n",
        "plt.plot(epochs, acc, \"bo\", label=\"Training acc\")\n",
        "plt.plot(epochs, val_acc, \"b\", label=\"Validation acc\")\n",
        "plt.title(\"Training and validation accuracy\")\n",
        "plt.xlabel(\"Epochs\")\n",
        "plt.ylabel(\"Accuracy\")\n",
        "plt.legend()\n",
        "plt.show()"
      ],
      "metadata": {
        "colab": {
          "base_uri": "https://localhost:8080/",
          "height": 295
        },
        "id": "wRzn0gQtNKYO",
        "outputId": "97635c9e-12f5-4c17-aeaf-4907e5928933"
      },
      "execution_count": null,
      "outputs": [
        {
          "output_type": "display_data",
          "data": {
            "text/plain": [
              "<Figure size 432x288 with 1 Axes>"
            ],
            "image/png": "[encoded data removed]"
          },
          "metadata": {
            "needs_background": "light"
          }
        }
      ]
    },
    {
      "cell_type": "code",
      "source": [
        "history_32 = model_32.fit(x_train, y_train, epochs=3, batch_size=512)\n",
        "results_32 = model_32.evaluate(x_test, y_test)\n",
        "results_32"
      ],
      "metadata": {
        "colab": {
          "base_uri": "https://localhost:8080/"
        },
        "id": "fTAPZE3CNMpM",
        "outputId": "610d0468-5b80-4977-83c9-5f31649b5e7f"
      },
      "execution_count": null,
      "outputs": [
        {
          "output_type": "stream",
          "name": "stdout",
          "text": [
            "Epoch 1/3\n",
            "49/49 [==============================] - 1s 11ms/step - loss: 0.1957 - accuracy: 0.9456\n",
            "Epoch 2/3\n",
            "49/49 [==============================] - 1s 11ms/step - loss: 0.1225 - accuracy: 0.9625\n",
            "Epoch 3/3\n",
            "49/49 [==============================] - 1s 11ms/step - loss: 0.0902 - accuracy: 0.9723\n",
            "782/782 [==============================] - 2s 3ms/step - loss: 0.4155 - accuracy: 0.8649\n"
          ]
        },
        {
          "output_type": "execute_result",
          "data": {
            "text/plain": [
              "[0.41551604866981506, 0.8648800253868103]"
            ]
          },
          "metadata": {},
          "execution_count": 43
        }
      ]
    },
    {
      "cell_type": "code",
      "source": [
        "model_32.predict(x_test)"
      ],
      "metadata": {
        "colab": {
          "base_uri": "https://localhost:8080/"
        },
        "id": "wmWpJrZ5NPMm",
        "outputId": "02877ea4-74b6-49ae-996b-6c3887f111e8"
      },
      "execution_count": null,
      "outputs": [
        {
          "output_type": "stream",
          "name": "stdout",
          "text": [
            "782/782 [==============================] - 1s 2ms/step\n"
          ]
        },
        {
          "output_type": "execute_result",
          "data": {
            "text/plain": [
              "array([[0.02048531],\n",
              "       [0.9999927 ],\n",
              "       [0.08758123],\n",
              "       ...,\n",
              "       [0.03793093],\n",
              "       [0.02606053],\n",
              "       [0.78134537]], dtype=float32)"
            ]
          },
          "metadata": {},
          "execution_count": 44
        }
      ]
    },
    {
      "cell_type": "markdown",
      "source": [
        "##The validation set has an accuracy of 86.48 percent."
      ],
      "metadata": {
        "id": "3J6v00JKu60n"
      }
    },
    {
      "cell_type": "markdown",
      "source": [
        "##Traing the model with 64 units"
      ],
      "metadata": {
        "id": "JufRfFCOt5wX"
      }
    },
    {
      "cell_type": "code",
      "source": [
        "np.random.seed(123)\n",
        "model_64 = keras.Sequential([\n",
        "    layers.Dense(64, activation=\"relu\"),\n",
        "    layers.Dense(64, activation=\"relu\"),\n",
        "    layers.Dense(1, activation=\"sigmoid\")\n",
        "])\n",
        "model_64.compile(optimizer=\"rmsprop\",\n",
        "              loss=\"binary_crossentropy\",\n",
        "              metrics=[\"accuracy\"])\n",
        "# validation\n",
        "x_val = x_train[:10000]\n",
        "partial_x_train = x_train[10000:]\n",
        "\n",
        "y_val = y_train[:10000]\n",
        "partial_y_train = y_train[10000:]\n",
        "\n",
        "np.random.seed(123)\n",
        "history64 = model_64.fit(partial_x_train,\n",
        "                    partial_y_train,\n",
        "                    epochs=20,\n",
        "                    batch_size=512,\n",
        "                    validation_data=(x_val, y_val))"
      ],
      "metadata": {
        "colab": {
          "base_uri": "https://localhost:8080/"
        },
        "id": "LA0idZ88NSb-",
        "outputId": "eea8dab1-8596-4d35-c533-69e265e5763f"
      },
      "execution_count": null,
      "outputs": [
        {
          "output_type": "stream",
          "name": "stdout",
          "text": [
            "Epoch 1/20\n",
            "30/30 [==============================] - 2s 48ms/step - loss: 0.4990 - accuracy: 0.7729 - val_loss: 0.3392 - val_accuracy: 0.8687\n",
            "Epoch 2/20\n",
            "30/30 [==============================] - 1s 18ms/step - loss: 0.3043 - accuracy: 0.8841 - val_loss: 0.2880 - val_accuracy: 0.8858\n",
            "Epoch 3/20\n",
            "30/30 [==============================] - 1s 18ms/step - loss: 0.2248 - accuracy: 0.9147 - val_loss: 0.3379 - val_accuracy: 0.8602\n",
            "Epoch 4/20\n",
            "30/30 [==============================] - 1s 18ms/step - loss: 0.1793 - accuracy: 0.9330 - val_loss: 0.2782 - val_accuracy: 0.8870\n",
            "Epoch 5/20\n",
            "30/30 [==============================] - 1s 18ms/step - loss: 0.1502 - accuracy: 0.9438 - val_loss: 0.2882 - val_accuracy: 0.8868\n",
            "Epoch 6/20\n",
            "30/30 [==============================] - 1s 18ms/step - loss: 0.1259 - accuracy: 0.9547 - val_loss: 0.3176 - val_accuracy: 0.8832\n",
            "Epoch 7/20\n",
            "30/30 [==============================] - 1s 19ms/step - loss: 0.0964 - accuracy: 0.9670 - val_loss: 0.3473 - val_accuracy: 0.8810\n",
            "Epoch 8/20\n",
            "30/30 [==============================] - 1s 19ms/step - loss: 0.0951 - accuracy: 0.9665 - val_loss: 0.3377 - val_accuracy: 0.8813\n",
            "Epoch 9/20\n",
            "30/30 [==============================] - 1s 19ms/step - loss: 0.0671 - accuracy: 0.9785 - val_loss: 0.3737 - val_accuracy: 0.8810\n",
            "Epoch 10/20\n",
            "30/30 [==============================] - 1s 18ms/step - loss: 0.0605 - accuracy: 0.9831 - val_loss: 0.4105 - val_accuracy: 0.8779\n",
            "Epoch 11/20\n",
            "30/30 [==============================] - 1s 18ms/step - loss: 0.0567 - accuracy: 0.9832 - val_loss: 0.4046 - val_accuracy: 0.8762\n",
            "Epoch 12/20\n",
            "30/30 [==============================] - 1s 18ms/step - loss: 0.0283 - accuracy: 0.9933 - val_loss: 0.5657 - val_accuracy: 0.8483\n",
            "Epoch 13/20\n",
            "30/30 [==============================] - 1s 18ms/step - loss: 0.0167 - accuracy: 0.9979 - val_loss: 0.4699 - val_accuracy: 0.8769\n",
            "Epoch 14/20\n",
            "30/30 [==============================] - 1s 18ms/step - loss: 0.0378 - accuracy: 0.9882 - val_loss: 0.4817 - val_accuracy: 0.8773\n",
            "Epoch 15/20\n",
            "30/30 [==============================] - 1s 18ms/step - loss: 0.0215 - accuracy: 0.9943 - val_loss: 0.5598 - val_accuracy: 0.8620\n",
            "Epoch 16/20\n",
            "30/30 [==============================] - 1s 18ms/step - loss: 0.0071 - accuracy: 0.9997 - val_loss: 0.5334 - val_accuracy: 0.8768\n",
            "Epoch 17/20\n",
            "30/30 [==============================] - 1s 18ms/step - loss: 0.0344 - accuracy: 0.9894 - val_loss: 0.5291 - val_accuracy: 0.8758\n",
            "Epoch 18/20\n",
            "30/30 [==============================] - 1s 18ms/step - loss: 0.0042 - accuracy: 0.9998 - val_loss: 0.5674 - val_accuracy: 0.8763\n",
            "Epoch 19/20\n",
            "30/30 [==============================] - 1s 18ms/step - loss: 0.0354 - accuracy: 0.9893 - val_loss: 0.5539 - val_accuracy: 0.8759\n",
            "Epoch 20/20\n",
            "30/30 [==============================] - 1s 18ms/step - loss: 0.0030 - accuracy: 0.9999 - val_loss: 0.5879 - val_accuracy: 0.8767\n"
          ]
        }
      ]
    },
    {
      "cell_type": "code",
      "source": [
        "history_dict64 = history64.history\n",
        "history_dict64.keys()"
      ],
      "metadata": {
        "colab": {
          "base_uri": "https://localhost:8080/"
        },
        "id": "m-X2f9A8NV7S",
        "outputId": "07924b77-bf91-432a-f076-0968a9c52c74"
      },
      "execution_count": null,
      "outputs": [
        {
          "output_type": "execute_result",
          "data": {
            "text/plain": [
              "dict_keys(['loss', 'accuracy', 'val_loss', 'val_accuracy'])"
            ]
          },
          "metadata": {},
          "execution_count": 46
        }
      ]
    },
    {
      "cell_type": "code",
      "source": [
        "loss_values = history_dict64[\"loss\"]\n",
        "val_loss_values = history_dict64[\"val_loss\"]\n",
        "epochs = range(1, len(loss_values) + 1)\n",
        "plt.plot(epochs, loss_values, \"bo\", label=\"Training loss\")\n",
        "plt.plot(epochs, val_loss_values, \"b\", label=\"Validation loss\")\n",
        "plt.title(\"Training and validation loss\")\n",
        "plt.xlabel(\"Epochs\")\n",
        "plt.ylabel(\"Loss\")\n",
        "plt.legend()\n",
        "plt.show()"
      ],
      "metadata": {
        "colab": {
          "base_uri": "https://localhost:8080/",
          "height": 295
        },
        "id": "ZoFPWvLqNX_B",
        "outputId": "ae620b9f-beff-4cc4-cb13-a44d10479c2a"
      },
      "execution_count": null,
      "outputs": [
        {
          "output_type": "display_data",
          "data": {
            "text/plain": [
              "<Figure size 432x288 with 1 Axes>"
            ],
            "image/png": "[encoded data removed]"
          },
          "metadata": {
            "needs_background": "light"
          }
        }
      ]
    },
    {
      "cell_type": "code",
      "source": [
        "plt.clf()\n",
        "acc = history_dict64[\"accuracy\"]\n",
        "val_acc = history_dict64[\"val_accuracy\"]\n",
        "plt.plot(epochs, acc, \"bo\", label=\"Training acc\")\n",
        "plt.plot(epochs, val_acc, \"b\", label=\"Validation acc\")\n",
        "plt.title(\"Training and validation accuracy\")\n",
        "plt.xlabel(\"Epochs\")\n",
        "plt.ylabel(\"Accuracy\")\n",
        "plt.legend()\n",
        "plt.show()\n"
      ],
      "metadata": {
        "colab": {
          "base_uri": "https://localhost:8080/",
          "height": 295
        },
        "id": "7_TTDt7JNaX8",
        "outputId": "3296142b-c71d-481a-a722-4626eaa4c460"
      },
      "execution_count": null,
      "outputs": [
        {
          "output_type": "display_data",
          "data": {
            "text/plain": [
              "<Figure size 432x288 with 1 Axes>"
            ],
            "image/png": "[encoded data removed]"
          },
          "metadata": {
            "needs_background": "light"
          }
        }
      ]
    },
    {
      "cell_type": "code",
      "source": [
        "history_64 = model_64.fit(x_train, y_train, epochs=3, batch_size=512)\n",
        "results_64 = model_64.evaluate(x_test, y_test)\n",
        "results_64"
      ],
      "metadata": {
        "colab": {
          "base_uri": "https://localhost:8080/"
        },
        "id": "sUI6PT5kNcw9",
        "outputId": "1f44b0d3-d0a7-4659-e7db-1a38d371bb33"
      },
      "execution_count": null,
      "outputs": [
        {
          "output_type": "stream",
          "name": "stdout",
          "text": [
            "Epoch 1/3\n",
            "49/49 [==============================] - 1s 11ms/step - loss: 0.1760 - accuracy: 0.9479\n",
            "Epoch 2/3\n",
            "49/49 [==============================] - 1s 11ms/step - loss: 0.0966 - accuracy: 0.9698\n",
            "Epoch 3/3\n",
            "49/49 [==============================] - 1s 10ms/step - loss: 0.0604 - accuracy: 0.9832\n",
            "782/782 [==============================] - 2s 2ms/step - loss: 0.4104 - accuracy: 0.8676\n"
          ]
        },
        {
          "output_type": "execute_result",
          "data": {
            "text/plain": [
              "[0.4103541672229767, 0.8675600290298462]"
            ]
          },
          "metadata": {},
          "execution_count": 49
        }
      ]
    },
    {
      "cell_type": "code",
      "source": [
        "model_64.predict(x_test)"
      ],
      "metadata": {
        "colab": {
          "base_uri": "https://localhost:8080/"
        },
        "id": "bdaHaniMNfAL",
        "outputId": "39ecbfb7-8f61-496a-d3fb-a0319f9d8405"
      },
      "execution_count": null,
      "outputs": [
        {
          "output_type": "stream",
          "name": "stdout",
          "text": [
            "782/782 [==============================] - 1s 2ms/step\n"
          ]
        },
        {
          "output_type": "execute_result",
          "data": {
            "text/plain": [
              "array([[0.01911188],\n",
              "       [0.9999995 ],\n",
              "       [0.6092722 ],\n",
              "       ...,\n",
              "       [0.02825702],\n",
              "       [0.02160722],\n",
              "       [0.8528232 ]], dtype=float32)"
            ]
          },
          "metadata": {},
          "execution_count": 50
        }
      ]
    },
    {
      "cell_type": "markdown",
      "source": [
        "##The validation set has an accuracy of 86.75%.##"
      ],
      "metadata": {
        "id": "YGgjjNiquq-U"
      }
    },
    {
      "cell_type": "markdown",
      "source": [
        "##Training the model with 128 units##"
      ],
      "metadata": {
        "id": "2JYNw5TwuLef"
      }
    },
    {
      "cell_type": "code",
      "source": [
        "np.random.seed(123)\n",
        "model_128 = keras.Sequential([\n",
        "    layers.Dense(128, activation=\"relu\"),\n",
        "    layers.Dense(128, activation=\"relu\"),\n",
        "    layers.Dense(1, activation=\"sigmoid\")\n",
        "])\n",
        "model_128.compile(optimizer=\"rmsprop\",\n",
        "              loss=\"binary_crossentropy\",\n",
        "              metrics=[\"accuracy\"])\n",
        "# validation\n",
        "x_val = x_train[:10000]\n",
        "partial_x_train = x_train[10000:]\n",
        "\n",
        "y_val = y_train[:10000]\n",
        "partial_y_train = y_train[10000:]\n",
        "\n",
        "np.random.seed(123)\n",
        "history128 = model_128.fit(partial_x_train,\n",
        "                    partial_y_train,\n",
        "                    epochs=20,\n",
        "                    batch_size=512,\n",
        "                    validation_data=(x_val, y_val))"
      ],
      "metadata": {
        "colab": {
          "base_uri": "https://localhost:8080/"
        },
        "id": "u1_HNSvnNhNq",
        "outputId": "626eb61f-5b6c-4740-c36a-ef4b924d5b6d"
      },
      "execution_count": null,
      "outputs": [
        {
          "output_type": "stream",
          "name": "stdout",
          "text": [
            "Epoch 1/20\n",
            "30/30 [==============================] - 2s 48ms/step - loss: 0.5092 - accuracy: 0.7605 - val_loss: 0.3750 - val_accuracy: 0.8388\n",
            "Epoch 2/20\n",
            "30/30 [==============================] - 1s 18ms/step - loss: 0.2999 - accuracy: 0.8839 - val_loss: 0.3073 - val_accuracy: 0.8725\n",
            "Epoch 3/20\n",
            "30/30 [==============================] - 1s 18ms/step - loss: 0.2183 - accuracy: 0.9188 - val_loss: 0.4367 - val_accuracy: 0.8213\n",
            "Epoch 4/20\n",
            "30/30 [==============================] - 1s 19ms/step - loss: 0.1810 - accuracy: 0.9280 - val_loss: 0.3095 - val_accuracy: 0.8743\n",
            "Epoch 5/20\n",
            "30/30 [==============================] - 1s 19ms/step - loss: 0.1443 - accuracy: 0.9465 - val_loss: 0.3023 - val_accuracy: 0.8830\n",
            "Epoch 6/20\n",
            "30/30 [==============================] - 1s 19ms/step - loss: 0.1156 - accuracy: 0.9588 - val_loss: 0.3075 - val_accuracy: 0.8837\n",
            "Epoch 7/20\n",
            "30/30 [==============================] - 1s 18ms/step - loss: 0.0795 - accuracy: 0.9741 - val_loss: 0.3419 - val_accuracy: 0.8792\n",
            "Epoch 8/20\n",
            "30/30 [==============================] - 1s 19ms/step - loss: 0.0625 - accuracy: 0.9813 - val_loss: 0.3747 - val_accuracy: 0.8792\n",
            "Epoch 9/20\n",
            "30/30 [==============================] - 1s 18ms/step - loss: 0.0530 - accuracy: 0.9843 - val_loss: 0.4053 - val_accuracy: 0.8758\n",
            "Epoch 10/20\n",
            "30/30 [==============================] - 1s 18ms/step - loss: 0.0535 - accuracy: 0.9845 - val_loss: 0.3981 - val_accuracy: 0.8784\n",
            "Epoch 11/20\n",
            "30/30 [==============================] - 1s 19ms/step - loss: 0.0462 - accuracy: 0.9862 - val_loss: 0.3843 - val_accuracy: 0.8782\n",
            "Epoch 12/20\n",
            "30/30 [==============================] - 1s 19ms/step - loss: 0.0084 - accuracy: 0.9997 - val_loss: 0.4720 - val_accuracy: 0.8788\n",
            "Epoch 13/20\n",
            "30/30 [==============================] - 1s 18ms/step - loss: 0.0466 - accuracy: 0.9875 - val_loss: 0.4314 - val_accuracy: 0.8793\n",
            "Epoch 14/20\n",
            "30/30 [==============================] - 1s 19ms/step - loss: 0.0044 - accuracy: 0.9999 - val_loss: 0.5075 - val_accuracy: 0.8779\n",
            "Epoch 15/20\n",
            "30/30 [==============================] - 1s 18ms/step - loss: 0.0480 - accuracy: 0.9859 - val_loss: 0.4505 - val_accuracy: 0.8789\n",
            "Epoch 16/20\n",
            "30/30 [==============================] - 1s 19ms/step - loss: 0.0035 - accuracy: 1.0000 - val_loss: 0.5163 - val_accuracy: 0.8794\n",
            "Epoch 17/20\n",
            "30/30 [==============================] - 1s 18ms/step - loss: 0.0018 - accuracy: 1.0000 - val_loss: 0.5771 - val_accuracy: 0.8770\n",
            "Epoch 18/20\n",
            "30/30 [==============================] - 1s 18ms/step - loss: 0.0472 - accuracy: 0.9878 - val_loss: 0.5288 - val_accuracy: 0.8759\n",
            "Epoch 19/20\n",
            "30/30 [==============================] - 1s 19ms/step - loss: 0.0022 - accuracy: 1.0000 - val_loss: 0.5537 - val_accuracy: 0.8779\n",
            "Epoch 20/20\n",
            "30/30 [==============================] - 1s 18ms/step - loss: 0.0011 - accuracy: 1.0000 - val_loss: 0.6081 - val_accuracy: 0.8775\n"
          ]
        }
      ]
    },
    {
      "cell_type": "code",
      "source": [
        "history_dict128 = history128.history\n",
        "history_dict128.keys()"
      ],
      "metadata": {
        "colab": {
          "base_uri": "https://localhost:8080/"
        },
        "id": "UOd_NaXWN0j7",
        "outputId": "ae3fa5b9-f293-41a8-e1e7-aa4d0321d539"
      },
      "execution_count": null,
      "outputs": [
        {
          "output_type": "execute_result",
          "data": {
            "text/plain": [
              "dict_keys(['loss', 'accuracy', 'val_loss', 'val_accuracy'])"
            ]
          },
          "metadata": {},
          "execution_count": 52
        }
      ]
    },
    {
      "cell_type": "code",
      "source": [
        "loss_values = history_dict128[\"loss\"]\n",
        "val_loss_values = history_dict128[\"val_loss\"]\n",
        "epochs = range(1, len(loss_values) + 1)\n",
        "plt.plot(epochs, loss_values, \"bo\", label=\"Training loss\")\n",
        "plt.plot(epochs, val_loss_values, \"b\", label=\"Validation loss\")\n",
        "plt.title(\"Training and validation loss\")\n",
        "plt.xlabel(\"Epochs\")\n",
        "plt.ylabel(\"Loss\")\n",
        "plt.legend()\n",
        "plt.show()"
      ],
      "metadata": {
        "colab": {
          "base_uri": "https://localhost:8080/",
          "height": 295
        },
        "id": "jejHfEUGN3HT",
        "outputId": "b53aa493-a622-438b-e4bf-e8b295dd0dce"
      },
      "execution_count": null,
      "outputs": [
        {
          "output_type": "display_data",
          "data": {
            "text/plain": [
              "<Figure size 432x288 with 1 Axes>"
            ],
            "image/png": "[encoded data removed]"
          },
          "metadata": {
            "needs_background": "light"
          }
        }
      ]
    },
    {
      "cell_type": "code",
      "source": [
        "plt.clf()\n",
        "acc = history_dict128[\"accuracy\"]\n",
        "val_acc = history_dict128[\"val_accuracy\"]\n",
        "plt.plot(epochs, acc, \"bo\", label=\"Training acc\")\n",
        "plt.plot(epochs, val_acc, \"b\", label=\"Validation acc\")\n",
        "plt.title(\"Training and validation accuracy\")\n",
        "plt.xlabel(\"Epochs\")\n",
        "plt.ylabel(\"Accuracy\")\n",
        "plt.legend()\n",
        "plt.show()"
      ],
      "metadata": {
        "colab": {
          "base_uri": "https://localhost:8080/",
          "height": 295
        },
        "id": "yV1UWK0tN4CN",
        "outputId": "a709b453-2541-4e6d-8b0a-fc58b9e04d4a"
      },
      "execution_count": null,
      "outputs": [
        {
          "output_type": "display_data",
          "data": {
            "text/plain": [
              "<Figure size 432x288 with 1 Axes>"
            ],
            "image/png": "[encoded data removed]"
          },
          "metadata": {
            "needs_background": "light"
          }
        }
      ]
    },
    {
      "cell_type": "code",
      "source": [
        "history_128 = model_128.fit(x_train, y_train, epochs=2, batch_size=512)\n",
        "results_128 = model_128.evaluate(x_test, y_test)\n",
        "results_128"
      ],
      "metadata": {
        "colab": {
          "base_uri": "https://localhost:8080/"
        },
        "id": "A8KJNXdTN7wo",
        "outputId": "536b7d6a-e79f-476b-cc16-0c063698c0ff"
      },
      "execution_count": null,
      "outputs": [
        {
          "output_type": "stream",
          "name": "stdout",
          "text": [
            "Epoch 1/2\n",
            "49/49 [==============================] - 1s 12ms/step - loss: 0.1713 - accuracy: 0.9470\n",
            "Epoch 2/2\n",
            "49/49 [==============================] - 1s 12ms/step - loss: 0.0857 - accuracy: 0.9730\n",
            "782/782 [==============================] - 2s 2ms/step - loss: 0.3647 - accuracy: 0.8738\n"
          ]
        },
        {
          "output_type": "execute_result",
          "data": {
            "text/plain": [
              "[0.3647419810295105, 0.8738399744033813]"
            ]
          },
          "metadata": {},
          "execution_count": 55
        }
      ]
    },
    {
      "cell_type": "code",
      "source": [
        "model_128.predict(x_test)"
      ],
      "metadata": {
        "colab": {
          "base_uri": "https://localhost:8080/"
        },
        "id": "WwFQnJmaN8k7",
        "outputId": "e2c6421f-0695-4bb8-9555-fd51628ac68c"
      },
      "execution_count": null,
      "outputs": [
        {
          "output_type": "stream",
          "name": "stdout",
          "text": [
            "782/782 [==============================] - 1s 2ms/step\n"
          ]
        },
        {
          "output_type": "execute_result",
          "data": {
            "text/plain": [
              "array([[0.0530677 ],\n",
              "       [0.9999995 ],\n",
              "       [0.9354145 ],\n",
              "       ...,\n",
              "       [0.02437645],\n",
              "       [0.00841208],\n",
              "       [0.9205662 ]], dtype=float32)"
            ]
          },
          "metadata": {},
          "execution_count": 56
        }
      ]
    },
    {
      "cell_type": "markdown",
      "source": [
        "##The validation set has an accuracy of 87.38%.##"
      ],
      "metadata": {
        "id": "IEN9cxfevE5g"
      }
    },
    {
      "cell_type": "markdown",
      "source": [
        "##MSE Loss Function##"
      ],
      "metadata": {
        "id": "8_punKr0vO72"
      }
    },
    {
      "cell_type": "code",
      "source": [
        "np.random.seed(123)\n",
        "model_MSE = keras.Sequential([\n",
        "    layers.Dense(16, activation=\"relu\"),\n",
        "    layers.Dense(16, activation=\"relu\"),\n",
        "    layers.Dense(1, activation=\"sigmoid\")\n",
        "])\n",
        "#Model compilation\n",
        "model_MSE.compile(optimizer=\"rmsprop\",\n",
        "              loss=\"mse\",\n",
        "              metrics=[\"accuracy\"])\n",
        "# validation\n",
        "x_val = x_train[:10000]\n",
        "partial_x_train = x_train[10000:]\n",
        "\n",
        "y_val = y_train[:10000]\n",
        "partial_y_train = y_train[10000:]\n",
        "# Model Fit\n",
        "np.random.seed(123)\n",
        "history_model_MSE = model_MSE.fit(partial_x_train,\n",
        "                    partial_y_train,\n",
        "                    epochs=20,\n",
        "                    batch_size=512,\n",
        "                    validation_data=(x_val, y_val))"
      ],
      "metadata": {
        "colab": {
          "base_uri": "https://localhost:8080/"
        },
        "id": "OUTgwJgwRAaA",
        "outputId": "4767e071-ce64-49bc-a0f8-e47396ccde63"
      },
      "execution_count": null,
      "outputs": [
        {
          "output_type": "stream",
          "name": "stdout",
          "text": [
            "Epoch 1/20\n",
            "30/30 [==============================] - 3s 48ms/step - loss: 0.1849 - accuracy: 0.7725 - val_loss: 0.1343 - val_accuracy: 0.8569\n",
            "Epoch 2/20\n",
            "30/30 [==============================] - 1s 17ms/step - loss: 0.1088 - accuracy: 0.8837 - val_loss: 0.1039 - val_accuracy: 0.8750\n",
            "Epoch 3/20\n",
            "30/30 [==============================] - 1s 17ms/step - loss: 0.0827 - accuracy: 0.9077 - val_loss: 0.0948 - val_accuracy: 0.8783\n",
            "Epoch 4/20\n",
            "30/30 [==============================] - 1s 17ms/step - loss: 0.0680 - accuracy: 0.9240 - val_loss: 0.0901 - val_accuracy: 0.8818\n",
            "Epoch 5/20\n",
            "30/30 [==============================] - 1s 18ms/step - loss: 0.0573 - accuracy: 0.9373 - val_loss: 0.0855 - val_accuracy: 0.8860\n",
            "Epoch 6/20\n",
            "30/30 [==============================] - 1s 17ms/step - loss: 0.0501 - accuracy: 0.9460 - val_loss: 0.0850 - val_accuracy: 0.8839\n",
            "Epoch 7/20\n",
            "30/30 [==============================] - 1s 17ms/step - loss: 0.0448 - accuracy: 0.9544 - val_loss: 0.0853 - val_accuracy: 0.8840\n",
            "Epoch 8/20\n",
            "30/30 [==============================] - 1s 18ms/step - loss: 0.0398 - accuracy: 0.9595 - val_loss: 0.0861 - val_accuracy: 0.8810\n",
            "Epoch 9/20\n",
            "30/30 [==============================] - 1s 18ms/step - loss: 0.0357 - accuracy: 0.9634 - val_loss: 0.0896 - val_accuracy: 0.8801\n",
            "Epoch 10/20\n",
            "30/30 [==============================] - 1s 18ms/step - loss: 0.0321 - accuracy: 0.9687 - val_loss: 0.0862 - val_accuracy: 0.8805\n",
            "Epoch 11/20\n",
            "30/30 [==============================] - 1s 17ms/step - loss: 0.0293 - accuracy: 0.9733 - val_loss: 0.0893 - val_accuracy: 0.8794\n",
            "Epoch 12/20\n",
            "30/30 [==============================] - 1s 17ms/step - loss: 0.0264 - accuracy: 0.9750 - val_loss: 0.0887 - val_accuracy: 0.8783\n",
            "Epoch 13/20\n",
            "30/30 [==============================] - 1s 18ms/step - loss: 0.0228 - accuracy: 0.9805 - val_loss: 0.0899 - val_accuracy: 0.8793\n",
            "Epoch 14/20\n",
            "30/30 [==============================] - 1s 18ms/step - loss: 0.0226 - accuracy: 0.9797 - val_loss: 0.0912 - val_accuracy: 0.8772\n",
            "Epoch 15/20\n",
            "30/30 [==============================] - 1s 18ms/step - loss: 0.0189 - accuracy: 0.9845 - val_loss: 0.0924 - val_accuracy: 0.8759\n",
            "Epoch 16/20\n",
            "30/30 [==============================] - 1s 18ms/step - loss: 0.0191 - accuracy: 0.9843 - val_loss: 0.0998 - val_accuracy: 0.8679\n",
            "Epoch 17/20\n",
            "30/30 [==============================] - 1s 17ms/step - loss: 0.0165 - accuracy: 0.9870 - val_loss: 0.0956 - val_accuracy: 0.8758\n",
            "Epoch 18/20\n",
            "30/30 [==============================] - 1s 17ms/step - loss: 0.0157 - accuracy: 0.9877 - val_loss: 0.0974 - val_accuracy: 0.8722\n",
            "Epoch 19/20\n",
            "30/30 [==============================] - 1s 19ms/step - loss: 0.0141 - accuracy: 0.9889 - val_loss: 0.0969 - val_accuracy: 0.8761\n",
            "Epoch 20/20\n",
            "30/30 [==============================] - 1s 19ms/step - loss: 0.0128 - accuracy: 0.9899 - val_loss: 0.0978 - val_accuracy: 0.8756\n"
          ]
        }
      ]
    },
    {
      "cell_type": "code",
      "source": [
        "history_dict_MSE = history_model_MSE.history\n",
        "history_dict_MSE.keys()"
      ],
      "metadata": {
        "colab": {
          "base_uri": "https://localhost:8080/"
        },
        "id": "HMzpX0-fRDv1",
        "outputId": "59bd4929-39f3-4115-ce04-dc701eea93f7"
      },
      "execution_count": null,
      "outputs": [
        {
          "output_type": "execute_result",
          "data": {
            "text/plain": [
              "dict_keys(['loss', 'accuracy', 'val_loss', 'val_accuracy'])"
            ]
          },
          "metadata": {},
          "execution_count": 64
        }
      ]
    },
    {
      "cell_type": "code",
      "source": [
        "import matplotlib.pyplot as plt\n",
        "loss_values = history_dict_MSE[\"loss\"]\n",
        "val_loss_values = history_dict_MSE[\"val_loss\"]\n",
        "epochs = range(1, len(loss_values) + 1)\n",
        "plt.plot(epochs, loss_values, \"bo\", label=\"Training loss\")\n",
        "plt.plot(epochs, val_loss_values, \"b\", label=\"Validation loss\")\n",
        "plt.title(\"Training and validation loss\")\n",
        "plt.xlabel(\"Epochs\")\n",
        "plt.ylabel(\"Loss\")\n",
        "plt.legend()\n",
        "plt.show()"
      ],
      "metadata": {
        "colab": {
          "base_uri": "https://localhost:8080/",
          "height": 295
        },
        "id": "Yib53P6FRG3D",
        "outputId": "0e3128ea-8766-4985-8355-a1f1be42306c"
      },
      "execution_count": null,
      "outputs": [
        {
          "output_type": "display_data",
          "data": {
            "text/plain": [
              "<Figure size 432x288 with 1 Axes>"
            ],
            "image/png": "[encoded data removed]"
          },
          "metadata": {
            "needs_background": "light"
          }
        }
      ]
    },
    {
      "cell_type": "code",
      "source": [
        "plt.clf()\n",
        "acc = history_dict_MSE[\"accuracy\"]\n",
        "val_acc = history_dict_MSE[\"val_accuracy\"]\n",
        "plt.plot(epochs, acc, \"bo\", label=\"Training acc\")\n",
        "plt.plot(epochs, val_acc, \"b\", label=\"Validation acc\")\n",
        "plt.title(\"Training and validation accuracy\")\n",
        "plt.xlabel(\"Epochs\")\n",
        "plt.ylabel(\"Accuracy\")\n",
        "plt.legend()\n",
        "plt.show()"
      ],
      "metadata": {
        "colab": {
          "base_uri": "https://localhost:8080/",
          "height": 295
        },
        "id": "yHdddfQyRJhY",
        "outputId": "ee1fef03-3b74-47db-fda9-aee67243a505"
      },
      "execution_count": null,
      "outputs": [
        {
          "output_type": "display_data",
          "data": {
            "text/plain": [
              "<Figure size 432x288 with 1 Axes>"
            ],
            "image/png": "[encoded data removed]"
          },
          "metadata": {
            "needs_background": "light"
          }
        }
      ]
    },
    {
      "cell_type": "code",
      "source": [
        "model_MSE.fit(x_train, y_train, epochs=8, batch_size=512)\n",
        "results_MSE = model_MSE.evaluate(x_test, y_test)\n",
        "results_MSE"
      ],
      "metadata": {
        "colab": {
          "base_uri": "https://localhost:8080/"
        },
        "id": "lP_Xae3FRLy5",
        "outputId": "a62217a2-806c-4ef9-eeb3-51138bc5d299"
      },
      "execution_count": null,
      "outputs": [
        {
          "output_type": "stream",
          "name": "stdout",
          "text": [
            "Epoch 1/8\n",
            "49/49 [==============================] - 1s 11ms/step - loss: 0.0468 - accuracy: 0.9443\n",
            "Epoch 2/8\n",
            "49/49 [==============================] - 1s 11ms/step - loss: 0.0392 - accuracy: 0.9548\n",
            "Epoch 3/8\n",
            "49/49 [==============================] - 1s 11ms/step - loss: 0.0344 - accuracy: 0.9614\n",
            "Epoch 4/8\n",
            "49/49 [==============================] - 1s 11ms/step - loss: 0.0309 - accuracy: 0.9670\n",
            "Epoch 5/8\n",
            "49/49 [==============================] - 1s 11ms/step - loss: 0.0286 - accuracy: 0.9706\n",
            "Epoch 6/8\n",
            "49/49 [==============================] - 1s 11ms/step - loss: 0.0276 - accuracy: 0.9712\n",
            "Epoch 7/8\n",
            "49/49 [==============================] - 1s 11ms/step - loss: 0.0243 - accuracy: 0.9761\n",
            "Epoch 8/8\n",
            "49/49 [==============================] - 1s 10ms/step - loss: 0.0237 - accuracy: 0.9759\n",
            "782/782 [==============================] - 2s 2ms/step - loss: 0.1102 - accuracy: 0.8645\n"
          ]
        },
        {
          "output_type": "execute_result",
          "data": {
            "text/plain": [
              "[0.11019179970026016, 0.8644800186157227]"
            ]
          },
          "metadata": {},
          "execution_count": 67
        }
      ]
    },
    {
      "cell_type": "code",
      "source": [
        "model_MSE.predict(x_test)"
      ],
      "metadata": {
        "colab": {
          "base_uri": "https://localhost:8080/"
        },
        "id": "MeamsCEKRN4J",
        "outputId": "5f8e58c5-c8f9-4aac-e854-0f6e25b97727"
      },
      "execution_count": null,
      "outputs": [
        {
          "output_type": "stream",
          "name": "stdout",
          "text": [
            "782/782 [==============================] - 1s 2ms/step\n"
          ]
        },
        {
          "output_type": "execute_result",
          "data": {
            "text/plain": [
              "array([[0.0129396 ],\n",
              "       [0.99995804],\n",
              "       [0.34060687],\n",
              "       ...,\n",
              "       [0.03023529],\n",
              "       [0.01194245],\n",
              "       [0.8410266 ]], dtype=float32)"
            ]
          },
          "metadata": {},
          "execution_count": 68
        }
      ]
    },
    {
      "cell_type": "markdown",
      "source": [
        "##Tanh Activation Function##"
      ],
      "metadata": {
        "id": "aHWB-gxixopk"
      }
    },
    {
      "cell_type": "code",
      "source": [
        "np.random.seed(123)\n",
        "model_tanh = keras.Sequential([\n",
        "    layers.Dense(16, activation=\"tanh\"),\n",
        "    layers.Dense(16, activation=\"tanh\"),\n",
        "    layers.Dense(1, activation=\"sigmoid\")\n",
        "])\n",
        "\n",
        "model_tanh.compile(optimizer='rmsprop',\n",
        "              loss='binary_crossentropy',\n",
        "              metrics=['accuracy'])\n",
        "\n",
        "x_val = x_train[:10000]\n",
        "partial_x_train = x_train[10000:]\n",
        "\n",
        "y_val = y_train[:10000]\n",
        "partial_y_train = y_train[10000:]\n",
        "\n",
        "np.random.seed(123) \n",
        "\n",
        "history_tanh = model_tanh.fit(partial_x_train,\n",
        "                    partial_y_train,\n",
        "                    epochs=20,\n",
        "                    batch_size=512,\n",
        "                    validation_data=(x_val, y_val))"
      ],
      "metadata": {
        "colab": {
          "base_uri": "https://localhost:8080/"
        },
        "id": "qOWK_Tx8RP0a",
        "outputId": "332eaf2e-c999-408f-e379-b2b7f0556763"
      },
      "execution_count": null,
      "outputs": [
        {
          "output_type": "stream",
          "name": "stdout",
          "text": [
            "Epoch 1/20\n",
            "30/30 [==============================] - 2s 48ms/step - loss: 0.5031 - accuracy: 0.7875 - val_loss: 0.3834 - val_accuracy: 0.8543\n",
            "Epoch 2/20\n",
            "30/30 [==============================] - 1s 18ms/step - loss: 0.2959 - accuracy: 0.8966 - val_loss: 0.2970 - val_accuracy: 0.8830\n",
            "Epoch 3/20\n",
            "30/30 [==============================] - 1s 18ms/step - loss: 0.2146 - accuracy: 0.9241 - val_loss: 0.2746 - val_accuracy: 0.8887\n",
            "Epoch 4/20\n",
            "30/30 [==============================] - 1s 17ms/step - loss: 0.1648 - accuracy: 0.9441 - val_loss: 0.2766 - val_accuracy: 0.8851\n",
            "Epoch 5/20\n",
            "30/30 [==============================] - 1s 17ms/step - loss: 0.1339 - accuracy: 0.9529 - val_loss: 0.2966 - val_accuracy: 0.8866\n",
            "Epoch 6/20\n",
            "30/30 [==============================] - 1s 17ms/step - loss: 0.1011 - accuracy: 0.9682 - val_loss: 0.3830 - val_accuracy: 0.8683\n",
            "Epoch 7/20\n",
            "30/30 [==============================] - 1s 17ms/step - loss: 0.0890 - accuracy: 0.9707 - val_loss: 0.3634 - val_accuracy: 0.8788\n",
            "Epoch 8/20\n",
            "30/30 [==============================] - 1s 17ms/step - loss: 0.0738 - accuracy: 0.9757 - val_loss: 0.3876 - val_accuracy: 0.8780\n",
            "Epoch 9/20\n",
            "30/30 [==============================] - 1s 18ms/step - loss: 0.0573 - accuracy: 0.9812 - val_loss: 0.4222 - val_accuracy: 0.8739\n",
            "Epoch 10/20\n",
            "30/30 [==============================] - 1s 19ms/step - loss: 0.0528 - accuracy: 0.9838 - val_loss: 0.4530 - val_accuracy: 0.8740\n",
            "Epoch 11/20\n",
            "30/30 [==============================] - 1s 18ms/step - loss: 0.0419 - accuracy: 0.9882 - val_loss: 0.4847 - val_accuracy: 0.8710\n",
            "Epoch 12/20\n",
            "30/30 [==============================] - 1s 22ms/step - loss: 0.0329 - accuracy: 0.9902 - val_loss: 0.5174 - val_accuracy: 0.8694\n",
            "Epoch 13/20\n",
            "30/30 [==============================] - 1s 18ms/step - loss: 0.0307 - accuracy: 0.9915 - val_loss: 0.5483 - val_accuracy: 0.8696\n",
            "Epoch 14/20\n",
            "30/30 [==============================] - 1s 18ms/step - loss: 0.0248 - accuracy: 0.9932 - val_loss: 0.5812 - val_accuracy: 0.8649\n",
            "Epoch 15/20\n",
            "30/30 [==============================] - 1s 18ms/step - loss: 0.0265 - accuracy: 0.9927 - val_loss: 0.5974 - val_accuracy: 0.8659\n",
            "Epoch 16/20\n",
            "30/30 [==============================] - 1s 18ms/step - loss: 0.0071 - accuracy: 0.9995 - val_loss: 0.6270 - val_accuracy: 0.8659\n",
            "Epoch 17/20\n",
            "30/30 [==============================] - 1s 18ms/step - loss: 0.0253 - accuracy: 0.9928 - val_loss: 0.6459 - val_accuracy: 0.8662\n",
            "Epoch 18/20\n",
            "30/30 [==============================] - 1s 18ms/step - loss: 0.0041 - accuracy: 0.9997 - val_loss: 0.6886 - val_accuracy: 0.8600\n",
            "Epoch 19/20\n",
            "30/30 [==============================] - 1s 17ms/step - loss: 0.0289 - accuracy: 0.9917 - val_loss: 0.6969 - val_accuracy: 0.8652\n",
            "Epoch 20/20\n",
            "30/30 [==============================] - 1s 18ms/step - loss: 0.0026 - accuracy: 0.9999 - val_loss: 0.7120 - val_accuracy: 0.8638\n"
          ]
        }
      ]
    },
    {
      "cell_type": "code",
      "source": [
        "history_dict_tanh = history_tanh.history\n",
        "history_dict_tanh.keys()"
      ],
      "metadata": {
        "colab": {
          "base_uri": "https://localhost:8080/"
        },
        "id": "Vb-aA8gdRStK",
        "outputId": "c484249d-f14f-4e6c-c93a-6dc37bd197e3"
      },
      "execution_count": null,
      "outputs": [
        {
          "output_type": "execute_result",
          "data": {
            "text/plain": [
              "dict_keys(['loss', 'accuracy', 'val_loss', 'val_accuracy'])"
            ]
          },
          "metadata": {},
          "execution_count": 70
        }
      ]
    },
    {
      "cell_type": "code",
      "source": [
        "loss_values = history_dict_tanh[\"loss\"]\n",
        "val_loss_values = history_dict_tanh[\"val_loss\"]\n",
        "epochs = range(1, len(loss_values) + 1)\n",
        "plt.plot(epochs, loss_values, \"bo\", label=\"Training loss\")\n",
        "plt.plot(epochs, val_loss_values, \"b\", label=\"Validation loss\")\n",
        "plt.title(\"Training and validation loss\")\n",
        "plt.xlabel(\"Epochs\")\n",
        "plt.ylabel(\"Loss\")\n",
        "plt.legend()\n",
        "plt.show()"
      ],
      "metadata": {
        "colab": {
          "base_uri": "https://localhost:8080/",
          "height": 295
        },
        "id": "L10fiI4JRUx1",
        "outputId": "e68ca5b9-7cb8-4e16-a0ee-9cff90bae2ae"
      },
      "execution_count": null,
      "outputs": [
        {
          "output_type": "display_data",
          "data": {
            "text/plain": [
              "<Figure size 432x288 with 1 Axes>"
            ],
            "image/png": "[encoded data removed]"
          },
          "metadata": {
            "needs_background": "light"
          }
        }
      ]
    },
    {
      "cell_type": "code",
      "source": [
        "plt.clf()\n",
        "acc = history_dict_tanh[\"accuracy\"]\n",
        "val_acc = history_dict_tanh[\"val_accuracy\"]\n",
        "plt.plot(epochs, acc, \"bo\", label=\"Training acc\")\n",
        "plt.plot(epochs, val_acc, \"b\", label=\"Validation acc\")\n",
        "plt.title(\"Training and validation accuracy\")\n",
        "plt.xlabel(\"Epochs\")\n",
        "plt.ylabel(\"Accuracy\")\n",
        "plt.legend()\n",
        "plt.show()"
      ],
      "metadata": {
        "colab": {
          "base_uri": "https://localhost:8080/",
          "height": 295
        },
        "id": "2A4ymxXMRY6A",
        "outputId": "624d4bed-4b63-4200-99ce-1c95a332f990"
      },
      "execution_count": null,
      "outputs": [
        {
          "output_type": "display_data",
          "data": {
            "text/plain": [
              "<Figure size 432x288 with 1 Axes>"
            ],
            "image/png": "[encoded data removed]"
          },
          "metadata": {
            "needs_background": "light"
          }
        }
      ]
    },
    {
      "cell_type": "code",
      "source": [
        "model_tanh.fit(x_train, y_train, epochs=8, batch_size=512)\n",
        "results_tanh = model_tanh.evaluate(x_test, y_test)\n",
        "results_tanh"
      ],
      "metadata": {
        "colab": {
          "base_uri": "https://localhost:8080/"
        },
        "id": "G7ryw0upRZcN",
        "outputId": "a219c412-cca2-4adb-dae6-9defe892210b"
      },
      "execution_count": null,
      "outputs": [
        {
          "output_type": "stream",
          "name": "stdout",
          "text": [
            "Epoch 1/8\n",
            "49/49 [==============================] - 1s 11ms/step - loss: 0.2664 - accuracy: 0.9434\n",
            "Epoch 2/8\n",
            "49/49 [==============================] - 1s 11ms/step - loss: 0.1440 - accuracy: 0.9584\n",
            "Epoch 3/8\n",
            "49/49 [==============================] - 1s 11ms/step - loss: 0.1192 - accuracy: 0.9630\n",
            "Epoch 4/8\n",
            "49/49 [==============================] - 1s 11ms/step - loss: 0.0992 - accuracy: 0.9679\n",
            "Epoch 5/8\n",
            "49/49 [==============================] - 1s 11ms/step - loss: 0.0887 - accuracy: 0.9712\n",
            "Epoch 6/8\n",
            "49/49 [==============================] - 1s 11ms/step - loss: 0.0738 - accuracy: 0.9775\n",
            "Epoch 7/8\n",
            "49/49 [==============================] - 1s 10ms/step - loss: 0.0695 - accuracy: 0.9782\n",
            "Epoch 8/8\n",
            "49/49 [==============================] - 1s 10ms/step - loss: 0.0570 - accuracy: 0.9827\n",
            "782/782 [==============================] - 2s 3ms/step - loss: 0.6204 - accuracy: 0.8520\n"
          ]
        },
        {
          "output_type": "execute_result",
          "data": {
            "text/plain": [
              "[0.6204051375389099, 0.8520399928092957]"
            ]
          },
          "metadata": {},
          "execution_count": 73
        }
      ]
    },
    {
      "cell_type": "markdown",
      "source": [
        "Adam Optimizer Function"
      ],
      "metadata": {
        "id": "OWk63W7jxagR"
      }
    },
    {
      "cell_type": "code",
      "source": [
        "\n",
        "np.random.seed(123)\n",
        "model_adam = keras.Sequential([\n",
        "    layers.Dense(16, activation=\"relu\"),\n",
        "    layers.Dense(16, activation=\"relu\"),\n",
        "    layers.Dense(1, activation=\"sigmoid\")\n",
        "])\n",
        "\n",
        "model_adam.compile(optimizer='adam',\n",
        "              loss='binary_crossentropy',\n",
        "              metrics=['accuracy'])\n",
        "\n",
        "x_val = x_train[:10000]\n",
        "partial_x_train = x_train[10000:]\n",
        "\n",
        "y_val = y_train[:10000]\n",
        "partial_y_train = y_train[10000:]\n",
        "\n",
        "np.random.seed(123) \n",
        "\n",
        "history_adam = model_adam.fit(partial_x_train,\n",
        "                    partial_y_train,\n",
        "                    epochs=20,\n",
        "                    batch_size=512,\n",
        "                    validation_data=(x_val, y_val))"
      ],
      "metadata": {
        "colab": {
          "base_uri": "https://localhost:8080/"
        },
        "id": "w58s4S8hRdmd",
        "outputId": "c749d9b4-19ef-48ab-d50a-b2aee6de5292"
      },
      "execution_count": null,
      "outputs": [
        {
          "output_type": "stream",
          "name": "stdout",
          "text": [
            "Epoch 1/20\n",
            "30/30 [==============================] - 3s 48ms/step - loss: 0.5916 - accuracy: 0.7279 - val_loss: 0.4499 - val_accuracy: 0.8422\n",
            "Epoch 2/20\n",
            "30/30 [==============================] - 1s 17ms/step - loss: 0.3395 - accuracy: 0.8938 - val_loss: 0.3126 - val_accuracy: 0.8824\n",
            "Epoch 3/20\n",
            "30/30 [==============================] - 1s 18ms/step - loss: 0.2242 - accuracy: 0.9277 - val_loss: 0.2792 - val_accuracy: 0.8900\n",
            "Epoch 4/20\n",
            "30/30 [==============================] - 1s 18ms/step - loss: 0.1653 - accuracy: 0.9483 - val_loss: 0.2783 - val_accuracy: 0.8885\n",
            "Epoch 5/20\n",
            "30/30 [==============================] - 1s 18ms/step - loss: 0.1256 - accuracy: 0.9631 - val_loss: 0.2904 - val_accuracy: 0.8851\n",
            "Epoch 6/20\n",
            "30/30 [==============================] - 1s 18ms/step - loss: 0.0980 - accuracy: 0.9735 - val_loss: 0.3113 - val_accuracy: 0.8828\n",
            "Epoch 7/20\n",
            "30/30 [==============================] - 1s 17ms/step - loss: 0.0764 - accuracy: 0.9832 - val_loss: 0.3339 - val_accuracy: 0.8789\n",
            "Epoch 8/20\n",
            "30/30 [==============================] - 1s 18ms/step - loss: 0.0587 - accuracy: 0.9884 - val_loss: 0.3605 - val_accuracy: 0.8791\n",
            "Epoch 9/20\n",
            "30/30 [==============================] - 1s 18ms/step - loss: 0.0462 - accuracy: 0.9927 - val_loss: 0.3901 - val_accuracy: 0.8745\n",
            "Epoch 10/20\n",
            "30/30 [==============================] - 1s 18ms/step - loss: 0.0359 - accuracy: 0.9952 - val_loss: 0.4200 - val_accuracy: 0.8748\n",
            "Epoch 11/20\n",
            "30/30 [==============================] - 1s 19ms/step - loss: 0.0279 - accuracy: 0.9968 - val_loss: 0.4477 - val_accuracy: 0.8741\n",
            "Epoch 12/20\n",
            "30/30 [==============================] - 1s 18ms/step - loss: 0.0212 - accuracy: 0.9987 - val_loss: 0.4767 - val_accuracy: 0.8710\n",
            "Epoch 13/20\n",
            "30/30 [==============================] - 1s 19ms/step - loss: 0.0164 - accuracy: 0.9994 - val_loss: 0.5039 - val_accuracy: 0.8717\n",
            "Epoch 14/20\n",
            "30/30 [==============================] - 1s 19ms/step - loss: 0.0128 - accuracy: 0.9997 - val_loss: 0.5284 - val_accuracy: 0.8703\n",
            "Epoch 15/20\n",
            "30/30 [==============================] - 1s 19ms/step - loss: 0.0101 - accuracy: 0.9997 - val_loss: 0.5518 - val_accuracy: 0.8685\n",
            "Epoch 16/20\n",
            "30/30 [==============================] - 1s 17ms/step - loss: 0.0081 - accuracy: 0.9999 - val_loss: 0.5739 - val_accuracy: 0.8677\n",
            "Epoch 17/20\n",
            "30/30 [==============================] - 1s 18ms/step - loss: 0.0067 - accuracy: 0.9999 - val_loss: 0.5945 - val_accuracy: 0.8670\n",
            "Epoch 18/20\n",
            "30/30 [==============================] - 1s 18ms/step - loss: 0.0055 - accuracy: 0.9999 - val_loss: 0.6134 - val_accuracy: 0.8665\n",
            "Epoch 19/20\n",
            "30/30 [==============================] - 1s 22ms/step - loss: 0.0046 - accuracy: 0.9999 - val_loss: 0.6295 - val_accuracy: 0.8659\n",
            "Epoch 20/20\n",
            "30/30 [==============================] - 1s 18ms/step - loss: 0.0040 - accuracy: 0.9999 - val_loss: 0.6459 - val_accuracy: 0.8662\n"
          ]
        }
      ]
    },
    {
      "cell_type": "code",
      "source": [
        "history_dict_adam = history_adam.history\n",
        "history_dict_adam.keys()"
      ],
      "metadata": {
        "colab": {
          "base_uri": "https://localhost:8080/"
        },
        "id": "MGkIpJ8eReWp",
        "outputId": "bb0c63c6-09ae-484f-863c-94e7499c3c6f"
      },
      "execution_count": null,
      "outputs": [
        {
          "output_type": "execute_result",
          "data": {
            "text/plain": [
              "dict_keys(['loss', 'accuracy', 'val_loss', 'val_accuracy'])"
            ]
          },
          "metadata": {},
          "execution_count": 75
        }
      ]
    },
    {
      "cell_type": "code",
      "source": [
        "loss_values = history_dict_adam[\"loss\"]\n",
        "val_loss_values = history_dict_adam[\"val_loss\"]\n",
        "epochs = range(1, len(loss_values) + 1)\n",
        "plt.plot(epochs, loss_values, \"bo\", label=\"Training loss\")\n",
        "plt.plot(epochs, val_loss_values, \"b\", label=\"Validation loss\")\n",
        "plt.title(\"Training and validation loss\")\n",
        "plt.xlabel(\"Epochs\")\n",
        "plt.ylabel(\"Loss\")\n",
        "plt.legend()\n",
        "plt.show()"
      ],
      "metadata": {
        "colab": {
          "base_uri": "https://localhost:8080/",
          "height": 295
        },
        "id": "IxBecfJERhD3",
        "outputId": "5f351ff9-ab06-45f5-9447-393e013d80f1"
      },
      "execution_count": null,
      "outputs": [
        {
          "output_type": "display_data",
          "data": {
            "text/plain": [
              "<Figure size 432x288 with 1 Axes>"
            ],
            "image/png": "[encoded data removed]"
          },
          "metadata": {
            "needs_background": "light"
          }
        }
      ]
    },
    {
      "cell_type": "code",
      "source": [
        "plt.clf()\n",
        "acc = history_dict_adam[\"accuracy\"]\n",
        "val_acc = history_dict_adam[\"val_accuracy\"]\n",
        "plt.plot(epochs, acc, \"bo\", label=\"Training acc\")\n",
        "plt.plot(epochs, val_acc, \"b\", label=\"Validation acc\")\n",
        "plt.title(\"Training and validation accuracy\")\n",
        "plt.xlabel(\"Epochs\")\n",
        "plt.ylabel(\"Accuracy\")\n",
        "plt.legend()\n",
        "plt.show()"
      ],
      "metadata": {
        "colab": {
          "base_uri": "https://localhost:8080/",
          "height": 295
        },
        "id": "n2kct34bRjP8",
        "outputId": "6d3be8f9-bb56-4e00-9bf4-064b82d4a520"
      },
      "execution_count": null,
      "outputs": [
        {
          "output_type": "display_data",
          "data": {
            "text/plain": [
              "<Figure size 432x288 with 1 Axes>"
            ],
            "image/png": "[encoded data removed]"
          },
          "metadata": {
            "needs_background": "light"
          }
        }
      ]
    },
    {
      "cell_type": "code",
      "source": [
        "model_adam.fit(x_train, y_train, epochs=4, batch_size=512)\n",
        "results_adam = model_adam.evaluate(x_test, y_test)\n",
        "results_adam"
      ],
      "metadata": {
        "colab": {
          "base_uri": "https://localhost:8080/"
        },
        "id": "gUIraaiTRldQ",
        "outputId": "39892618-c47c-488a-9a35-1f4d15dea300"
      },
      "execution_count": null,
      "outputs": [
        {
          "output_type": "stream",
          "name": "stdout",
          "text": [
            "Epoch 1/4\n",
            "49/49 [==============================] - 1s 11ms/step - loss: 0.2282 - accuracy: 0.9388\n",
            "Epoch 2/4\n",
            "49/49 [==============================] - 1s 11ms/step - loss: 0.1090 - accuracy: 0.9665\n",
            "Epoch 3/4\n",
            "49/49 [==============================] - 1s 11ms/step - loss: 0.0719 - accuracy: 0.9793\n",
            "Epoch 4/4\n",
            "49/49 [==============================] - 1s 11ms/step - loss: 0.0520 - accuracy: 0.9878\n",
            "782/782 [==============================] - 2s 3ms/step - loss: 0.4984 - accuracy: 0.8578\n"
          ]
        },
        {
          "output_type": "execute_result",
          "data": {
            "text/plain": [
              "[0.49841028451919556, 0.8578000068664551]"
            ]
          },
          "metadata": {},
          "execution_count": 78
        }
      ]
    },
    {
      "cell_type": "markdown",
      "source": [
        "#Regularization#"
      ],
      "metadata": {
        "id": "rLTR53bmxSPT"
      }
    },
    {
      "cell_type": "code",
      "source": [
        "from tensorflow.keras import regularizers\n",
        "np.random.seed(123)\n",
        "model_regularization = keras.Sequential([\n",
        "    layers.Dense(16, activation=\"relu\",kernel_regularizer=regularizers.l2(0.001)),\n",
        "    layers.Dense(16, activation=\"relu\",kernel_regularizer=regularizers.l2(0.001)),\n",
        "    layers.Dense(1, activation=\"sigmoid\")\n",
        "])\n",
        "model_regularization.compile(optimizer=\"rmsprop\",\n",
        "              loss=\"binary_crossentropy\",\n",
        "              metrics=[\"accuracy\"])\n",
        "np.random.seed(123)\n",
        "history_model_regularization = model_regularization.fit(partial_x_train,\n",
        "                    partial_y_train,\n",
        "                    epochs=20,\n",
        "                    batch_size=512,\n",
        "                    validation_data=(x_val, y_val))\n",
        "history_dict_regularization = history_model_regularization.history\n",
        "history_dict_regularization.keys()"
      ],
      "metadata": {
        "colab": {
          "base_uri": "https://localhost:8080/"
        },
        "id": "qCzJ6SAoRnXa",
        "outputId": "3e0a4506-6c00-46ca-e980-2b031a5d11b7"
      },
      "execution_count": null,
      "outputs": [
        {
          "output_type": "stream",
          "name": "stdout",
          "text": [
            "Epoch 1/20\n",
            "30/30 [==============================] - 2s 48ms/step - loss: 0.6102 - accuracy: 0.7638 - val_loss: 0.4993 - val_accuracy: 0.8420\n",
            "Epoch 2/20\n",
            "30/30 [==============================] - 1s 19ms/step - loss: 0.4243 - accuracy: 0.8827 - val_loss: 0.4025 - val_accuracy: 0.8700\n",
            "Epoch 3/20\n",
            "30/30 [==============================] - 1s 18ms/step - loss: 0.3368 - accuracy: 0.9069 - val_loss: 0.3606 - val_accuracy: 0.8799\n",
            "Epoch 4/20\n",
            "30/30 [==============================] - 1s 18ms/step - loss: 0.2902 - accuracy: 0.9198 - val_loss: 0.3443 - val_accuracy: 0.8835\n",
            "Epoch 5/20\n",
            "30/30 [==============================] - 1s 18ms/step - loss: 0.2621 - accuracy: 0.9314 - val_loss: 0.3332 - val_accuracy: 0.8873\n",
            "Epoch 6/20\n",
            "30/30 [==============================] - 1s 18ms/step - loss: 0.2404 - accuracy: 0.9393 - val_loss: 0.3371 - val_accuracy: 0.8856\n",
            "Epoch 7/20\n",
            "30/30 [==============================] - 1s 18ms/step - loss: 0.2232 - accuracy: 0.9483 - val_loss: 0.3328 - val_accuracy: 0.8848\n",
            "Epoch 8/20\n",
            "30/30 [==============================] - 1s 17ms/step - loss: 0.2130 - accuracy: 0.9507 - val_loss: 0.3512 - val_accuracy: 0.8829\n",
            "Epoch 9/20\n",
            "30/30 [==============================] - 1s 17ms/step - loss: 0.2002 - accuracy: 0.9557 - val_loss: 0.4114 - val_accuracy: 0.8625\n",
            "Epoch 10/20\n",
            "30/30 [==============================] - 1s 17ms/step - loss: 0.1932 - accuracy: 0.9584 - val_loss: 0.3814 - val_accuracy: 0.8712\n",
            "Epoch 11/20\n",
            "30/30 [==============================] - 1s 17ms/step - loss: 0.1839 - accuracy: 0.9624 - val_loss: 0.3582 - val_accuracy: 0.8801\n",
            "Epoch 12/20\n",
            "30/30 [==============================] - 1s 18ms/step - loss: 0.1791 - accuracy: 0.9648 - val_loss: 0.3686 - val_accuracy: 0.8780\n",
            "Epoch 13/20\n",
            "30/30 [==============================] - 1s 17ms/step - loss: 0.1725 - accuracy: 0.9675 - val_loss: 0.3771 - val_accuracy: 0.8774\n",
            "Epoch 14/20\n",
            "30/30 [==============================] - 1s 18ms/step - loss: 0.1690 - accuracy: 0.9672 - val_loss: 0.3838 - val_accuracy: 0.8791\n",
            "Epoch 15/20\n",
            "30/30 [==============================] - 1s 23ms/step - loss: 0.1617 - accuracy: 0.9721 - val_loss: 0.3934 - val_accuracy: 0.8780\n",
            "Epoch 16/20\n",
            "30/30 [==============================] - 1s 18ms/step - loss: 0.1602 - accuracy: 0.9713 - val_loss: 0.4651 - val_accuracy: 0.8551\n",
            "Epoch 17/20\n",
            "30/30 [==============================] - 1s 18ms/step - loss: 0.1543 - accuracy: 0.9745 - val_loss: 0.4030 - val_accuracy: 0.8763\n",
            "Epoch 18/20\n",
            "30/30 [==============================] - 1s 18ms/step - loss: 0.1508 - accuracy: 0.9757 - val_loss: 0.4256 - val_accuracy: 0.8660\n",
            "Epoch 19/20\n",
            "30/30 [==============================] - 1s 18ms/step - loss: 0.1460 - accuracy: 0.9781 - val_loss: 0.4113 - val_accuracy: 0.8744\n",
            "Epoch 20/20\n",
            "30/30 [==============================] - 1s 17ms/step - loss: 0.1459 - accuracy: 0.9773 - val_loss: 0.4203 - val_accuracy: 0.8726\n"
          ]
        },
        {
          "output_type": "execute_result",
          "data": {
            "text/plain": [
              "dict_keys(['loss', 'accuracy', 'val_loss', 'val_accuracy'])"
            ]
          },
          "metadata": {},
          "execution_count": 79
        }
      ]
    },
    {
      "cell_type": "code",
      "source": [
        "loss_values = history_dict_regularization[\"loss\"]\n",
        "val_loss_values = history_dict_regularization[\"val_loss\"]\n",
        "epochs = range(1, len(loss_values) + 1)\n",
        "plt.plot(epochs, loss_values, \"bo\", label=\"Training loss\")\n",
        "plt.plot(epochs, val_loss_values, \"b\", label=\"Validation loss\")\n",
        "plt.title(\"Training and validation loss\")\n",
        "plt.xlabel(\"Epochs\")\n",
        "plt.ylabel(\"Loss\")\n",
        "plt.legend()\n",
        "plt.show()"
      ],
      "metadata": {
        "colab": {
          "base_uri": "https://localhost:8080/",
          "height": 295
        },
        "id": "_BZsUYcwRp6a",
        "outputId": "430eb87a-d932-4603-ce10-49138999c890"
      },
      "execution_count": null,
      "outputs": [
        {
          "output_type": "display_data",
          "data": {
            "text/plain": [
              "<Figure size 432x288 with 1 Axes>"
            ],
            "image/png": "[encoded data removed]"
          },
          "metadata": {
            "needs_background": "light"
          }
        }
      ]
    },
    {
      "cell_type": "code",
      "source": [
        "plt.clf()\n",
        "acc = history_dict_regularization[\"accuracy\"]\n",
        "val_acc = history_dict_regularization[\"val_accuracy\"]\n",
        "plt.plot(epochs, acc, \"bo\", label=\"Training acc\")\n",
        "plt.plot(epochs, val_acc, \"b\", label=\"Validation acc\")\n",
        "plt.title(\"Training and validation accuracy\")\n",
        "plt.xlabel(\"Epochs\")\n",
        "plt.ylabel(\"Accuracy\")\n",
        "plt.legend()\n",
        "plt.show()"
      ],
      "metadata": {
        "colab": {
          "base_uri": "https://localhost:8080/",
          "height": 295
        },
        "id": "O0fmic1IRtE5",
        "outputId": "88e41f03-2b12-4f71-8445-401de0d20434"
      },
      "execution_count": null,
      "outputs": [
        {
          "output_type": "display_data",
          "data": {
            "text/plain": [
              "<Figure size 432x288 with 1 Axes>"
            ],
            "image/png": "[encoded data removed]"
          },
          "metadata": {
            "needs_background": "light"
          }
        }
      ]
    },
    {
      "cell_type": "code",
      "source": [
        "model_regularization.fit(x_train, y_train, epochs=8, batch_size=512)\n",
        "results_regularization = model_regularization.evaluate(x_test, y_test)\n",
        "results_regularization"
      ],
      "metadata": {
        "colab": {
          "base_uri": "https://localhost:8080/"
        },
        "id": "2eVZxdWVRw5C",
        "outputId": "fbaac59a-2759-4099-d267-f0df42aad982"
      },
      "execution_count": null,
      "outputs": [
        {
          "output_type": "stream",
          "name": "stdout",
          "text": [
            "Epoch 1/8\n",
            "49/49 [==============================] - 1s 11ms/step - loss: 0.2496 - accuracy: 0.9352\n",
            "Epoch 2/8\n",
            "49/49 [==============================] - 1s 11ms/step - loss: 0.2135 - accuracy: 0.9472\n",
            "Epoch 3/8\n",
            "49/49 [==============================] - 1s 11ms/step - loss: 0.2030 - accuracy: 0.9478\n",
            "Epoch 4/8\n",
            "49/49 [==============================] - 1s 11ms/step - loss: 0.1902 - accuracy: 0.9539\n",
            "Epoch 5/8\n",
            "49/49 [==============================] - 1s 11ms/step - loss: 0.1876 - accuracy: 0.9553\n",
            "Epoch 6/8\n",
            "49/49 [==============================] - 1s 11ms/step - loss: 0.1848 - accuracy: 0.9558\n",
            "Epoch 7/8\n",
            "49/49 [==============================] - 1s 11ms/step - loss: 0.1812 - accuracy: 0.9576\n",
            "Epoch 8/8\n",
            "49/49 [==============================] - 1s 11ms/step - loss: 0.1782 - accuracy: 0.9587\n",
            "782/782 [==============================] - 2s 3ms/step - loss: 0.4255 - accuracy: 0.8675\n"
          ]
        },
        {
          "output_type": "execute_result",
          "data": {
            "text/plain": [
              "[0.42552879452705383, 0.8675199747085571]"
            ]
          },
          "metadata": {},
          "execution_count": 82
        }
      ]
    },
    {
      "cell_type": "markdown",
      "source": [
        "#The loss on test set is 0.4255 and accuracy is 86.75%."
      ],
      "metadata": {
        "id": "LXDRaG3wzWlG"
      }
    },
    {
      "cell_type": "markdown",
      "source": [
        "#Dropout#"
      ],
      "metadata": {
        "id": "0UtYvj17xJKc"
      }
    },
    {
      "cell_type": "code",
      "source": [
        "\n",
        "from tensorflow.keras import regularizers\n",
        "np.random.seed(123)\n",
        "model_Dropout = keras.Sequential([\n",
        "    layers.Dense(16, activation=\"relu\"),\n",
        "    layers.Dropout(0.5),\n",
        "    layers.Dense(16, activation=\"relu\"),\n",
        "    layers.Dropout(0.5),\n",
        "    layers.Dense(1, activation=\"sigmoid\")\n",
        "])\n",
        "model_Dropout.compile(optimizer=\"rmsprop\",\n",
        "              loss=\"binary_crossentropy\",\n",
        "              metrics=[\"accuracy\"])\n",
        "np.random.seed(123)\n",
        "history_model_Dropout = model_Dropout.fit(partial_x_train,\n",
        "                    partial_y_train,\n",
        "                    epochs=20,\n",
        "                    batch_size=512,\n",
        "                    validation_data=(x_val, y_val))\n",
        "history_dict_Dropout = history_model_Dropout.history\n",
        "history_dict_Dropout.keys()"
      ],
      "metadata": {
        "colab": {
          "base_uri": "https://localhost:8080/"
        },
        "id": "Gu5R0MlWRxZI",
        "outputId": "e7f31ad7-74df-4c4a-be4e-720a1723928e"
      },
      "execution_count": null,
      "outputs": [
        {
          "output_type": "stream",
          "name": "stdout",
          "text": [
            "Epoch 1/20\n",
            "30/30 [==============================] - 2s 47ms/step - loss: 0.6270 - accuracy: 0.6458 - val_loss: 0.4878 - val_accuracy: 0.8423\n",
            "Epoch 2/20\n",
            "30/30 [==============================] - 1s 17ms/step - loss: 0.4985 - accuracy: 0.7700 - val_loss: 0.3906 - val_accuracy: 0.8727\n",
            "Epoch 3/20\n",
            "30/30 [==============================] - 1s 17ms/step - loss: 0.4121 - accuracy: 0.8235 - val_loss: 0.3465 - val_accuracy: 0.8778\n",
            "Epoch 4/20\n",
            "30/30 [==============================] - 1s 18ms/step - loss: 0.3497 - accuracy: 0.8602 - val_loss: 0.2947 - val_accuracy: 0.8860\n",
            "Epoch 5/20\n",
            "30/30 [==============================] - 1s 17ms/step - loss: 0.3056 - accuracy: 0.8867 - val_loss: 0.2784 - val_accuracy: 0.8888\n",
            "Epoch 6/20\n",
            "30/30 [==============================] - 1s 17ms/step - loss: 0.2723 - accuracy: 0.9054 - val_loss: 0.2750 - val_accuracy: 0.8892\n",
            "Epoch 7/20\n",
            "30/30 [==============================] - 1s 17ms/step - loss: 0.2435 - accuracy: 0.9198 - val_loss: 0.2757 - val_accuracy: 0.8915\n",
            "Epoch 8/20\n",
            "30/30 [==============================] - 1s 18ms/step - loss: 0.2120 - accuracy: 0.9309 - val_loss: 0.2816 - val_accuracy: 0.8915\n",
            "Epoch 9/20\n",
            "30/30 [==============================] - 1s 17ms/step - loss: 0.1892 - accuracy: 0.9391 - val_loss: 0.2966 - val_accuracy: 0.8883\n",
            "Epoch 10/20\n",
            "30/30 [==============================] - 1s 18ms/step - loss: 0.1724 - accuracy: 0.9461 - val_loss: 0.3058 - val_accuracy: 0.8884\n",
            "Epoch 11/20\n",
            "30/30 [==============================] - 0s 17ms/step - loss: 0.1505 - accuracy: 0.9538 - val_loss: 0.3296 - val_accuracy: 0.8884\n",
            "Epoch 12/20\n",
            "30/30 [==============================] - 1s 18ms/step - loss: 0.1376 - accuracy: 0.9557 - val_loss: 0.3575 - val_accuracy: 0.8873\n",
            "Epoch 13/20\n",
            "30/30 [==============================] - 1s 18ms/step - loss: 0.1307 - accuracy: 0.9592 - val_loss: 0.3558 - val_accuracy: 0.8847\n",
            "Epoch 14/20\n",
            "30/30 [==============================] - 1s 18ms/step - loss: 0.1134 - accuracy: 0.9655 - val_loss: 0.3951 - val_accuracy: 0.8878\n",
            "Epoch 15/20\n",
            "30/30 [==============================] - 1s 19ms/step - loss: 0.1054 - accuracy: 0.9665 - val_loss: 0.4070 - val_accuracy: 0.8878\n",
            "Epoch 16/20\n",
            "30/30 [==============================] - 1s 18ms/step - loss: 0.0936 - accuracy: 0.9700 - val_loss: 0.4192 - val_accuracy: 0.8846\n",
            "Epoch 17/20\n",
            "30/30 [==============================] - 1s 18ms/step - loss: 0.0881 - accuracy: 0.9727 - val_loss: 0.4814 - val_accuracy: 0.8855\n",
            "Epoch 18/20\n",
            "30/30 [==============================] - 1s 17ms/step - loss: 0.0847 - accuracy: 0.9715 - val_loss: 0.4867 - val_accuracy: 0.8838\n",
            "Epoch 19/20\n",
            "30/30 [==============================] - 1s 17ms/step - loss: 0.0802 - accuracy: 0.9720 - val_loss: 0.5315 - val_accuracy: 0.8832\n",
            "Epoch 20/20\n",
            "30/30 [==============================] - 1s 17ms/step - loss: 0.0764 - accuracy: 0.9759 - val_loss: 0.5447 - val_accuracy: 0.8815\n"
          ]
        },
        {
          "output_type": "execute_result",
          "data": {
            "text/plain": [
              "dict_keys(['loss', 'accuracy', 'val_loss', 'val_accuracy'])"
            ]
          },
          "metadata": {},
          "execution_count": 83
        }
      ]
    },
    {
      "cell_type": "code",
      "source": [
        "loss_values = history_dict_Dropout[\"loss\"]\n",
        "val_loss_values = history_dict_Dropout[\"val_loss\"]\n",
        "epochs = range(1, len(loss_values) + 1)\n",
        "plt.plot(epochs, loss_values, \"bo\", label=\"Training loss\")\n",
        "plt.plot(epochs, val_loss_values, \"b\", label=\"Validation loss\")\n",
        "plt.title(\"Training and validation loss\")\n",
        "plt.xlabel(\"Epochs\")\n",
        "plt.ylabel(\"Loss\")\n",
        "plt.legend()\n",
        "plt.show()"
      ],
      "metadata": {
        "colab": {
          "base_uri": "https://localhost:8080/",
          "height": 295
        },
        "id": "MNglTaTGR0wy",
        "outputId": "5d9edee2-a752-405f-ba6c-eb15f8baa782"
      },
      "execution_count": null,
      "outputs": [
        {
          "output_type": "display_data",
          "data": {
            "text/plain": [
              "<Figure size 432x288 with 1 Axes>"
            ],
            "image/png": "[encoded data removed]"
          },
          "metadata": {
            "needs_background": "light"
          }
        }
      ]
    },
    {
      "cell_type": "code",
      "source": [
        "plt.clf()\n",
        "acc = history_dict_Dropout[\"accuracy\"]\n",
        "val_acc = history_dict_Dropout[\"val_accuracy\"]\n",
        "plt.plot(epochs, acc, \"bo\", label=\"Training acc\")\n",
        "plt.plot(epochs, val_acc, \"b\", label=\"Validation acc\")\n",
        "plt.title(\"Training and validation accuracy\")\n",
        "plt.xlabel(\"Epochs\")\n",
        "plt.ylabel(\"Accuracy\")\n",
        "plt.legend()\n",
        "plt.show()"
      ],
      "metadata": {
        "colab": {
          "base_uri": "https://localhost:8080/",
          "height": 295
        },
        "id": "xKoEWs1bR3Bg",
        "outputId": "9a4e6d93-b742-4a44-e34b-467f50b9d5b0"
      },
      "execution_count": null,
      "outputs": [
        {
          "output_type": "display_data",
          "data": {
            "text/plain": [
              "<Figure size 432x288 with 1 Axes>"
            ],
            "image/png": "[encoded data removed]"
          },
          "metadata": {
            "needs_background": "light"
          }
        }
      ]
    },
    {
      "cell_type": "code",
      "source": [
        "model_Dropout.fit(x_train, y_train, epochs=8, batch_size=512)\n",
        "results_Dropout = model_Dropout.evaluate(x_test, y_test)\n",
        "results_Dropout"
      ],
      "metadata": {
        "colab": {
          "base_uri": "https://localhost:8080/"
        },
        "id": "b7U4QCmJR5Zh",
        "outputId": "e2683682-434c-44b1-c13b-34348f12e801"
      },
      "execution_count": null,
      "outputs": [
        {
          "output_type": "stream",
          "name": "stdout",
          "text": [
            "Epoch 1/8\n",
            "49/49 [==============================] - 1s 11ms/step - loss: 0.2544 - accuracy: 0.9212\n",
            "Epoch 2/8\n",
            "49/49 [==============================] - 1s 11ms/step - loss: 0.2008 - accuracy: 0.9370\n",
            "Epoch 3/8\n",
            "49/49 [==============================] - 1s 10ms/step - loss: 0.1790 - accuracy: 0.9431\n",
            "Epoch 4/8\n",
            "49/49 [==============================] - 0s 10ms/step - loss: 0.1683 - accuracy: 0.9469\n",
            "Epoch 5/8\n",
            "49/49 [==============================] - 1s 10ms/step - loss: 0.1559 - accuracy: 0.9511\n",
            "Epoch 6/8\n",
            "49/49 [==============================] - 1s 10ms/step - loss: 0.1422 - accuracy: 0.9541\n",
            "Epoch 7/8\n",
            "49/49 [==============================] - 1s 10ms/step - loss: 0.1387 - accuracy: 0.9553\n",
            "Epoch 8/8\n",
            "49/49 [==============================] - 1s 10ms/step - loss: 0.1295 - accuracy: 0.9564\n",
            "782/782 [==============================] - 2s 2ms/step - loss: 0.4659 - accuracy: 0.8722\n"
          ]
        },
        {
          "output_type": "execute_result",
          "data": {
            "text/plain": [
              "[0.465873658657074, 0.872160017490387]"
            ]
          },
          "metadata": {},
          "execution_count": 86
        }
      ]
    },
    {
      "cell_type": "markdown",
      "source": [
        "###The loss on the test set is 0.4659 and accuracy is 0.8722.###"
      ],
      "metadata": {
        "id": "ymik4_rqzp_h"
      }
    },
    {
      "cell_type": "markdown",
      "source": [
        "###Training model with hyper tuned parameters###"
      ],
      "metadata": {
        "id": "jh6SfWoNz34V"
      }
    },
    {
      "cell_type": "code",
      "source": [
        "from tensorflow.keras import regularizers\n",
        "np.random.seed(123)\n",
        "model_Hyper = keras.Sequential([\n",
        "    layers.Dense(32, activation=\"relu\",kernel_regularizer=regularizers.l2(0.0001)),\n",
        "    layers.Dropout(0.5),    \n",
        "    layers.Dense(32, activation=\"relu\",kernel_regularizer=regularizers.l2(0.0001)),\n",
        "    layers.Dropout(0.5),\n",
        "    layers.Dense(16, activation=\"relu\",kernel_regularizer=regularizers.l2(0.0001)),\n",
        "    layers.Dropout(0.5),\n",
        "    layers.Dense(1, activation=\"sigmoid\")\n",
        "])\n",
        "model_Hyper.compile(optimizer=\"rmsprop\",\n",
        "              loss=\"mse\",\n",
        "              metrics=[\"accuracy\"])\n",
        "np.random.seed(123)\n",
        "history_model_Hyper = model_Hyper.fit(partial_x_train,\n",
        "                    partial_y_train,\n",
        "                    epochs=20,\n",
        "                    batch_size=512,\n",
        "                    validation_data=(x_val, y_val))\n",
        "history_dict_Hyper = history_model_Hyper.history\n",
        "history_dict_Hyper.keys()"
      ],
      "metadata": {
        "colab": {
          "base_uri": "https://localhost:8080/"
        },
        "id": "tkrgUmGER7hD",
        "outputId": "89597f42-09df-4da8-ee4a-eae32f4733aa"
      },
      "execution_count": null,
      "outputs": [
        {
          "output_type": "stream",
          "name": "stdout",
          "text": [
            "Epoch 1/20\n",
            "30/30 [==============================] - 3s 49ms/step - loss: 0.2518 - accuracy: 0.5781 - val_loss: 0.2163 - val_accuracy: 0.7967\n",
            "Epoch 2/20\n",
            "30/30 [==============================] - 1s 18ms/step - loss: 0.2078 - accuracy: 0.7137 - val_loss: 0.1465 - val_accuracy: 0.8561\n",
            "Epoch 3/20\n",
            "30/30 [==============================] - 1s 18ms/step - loss: 0.1625 - accuracy: 0.8007 - val_loss: 0.1131 - val_accuracy: 0.8700\n",
            "Epoch 4/20\n",
            "30/30 [==============================] - 1s 17ms/step - loss: 0.1302 - accuracy: 0.8539 - val_loss: 0.1008 - val_accuracy: 0.8837\n",
            "Epoch 5/20\n",
            "30/30 [==============================] - 1s 19ms/step - loss: 0.1101 - accuracy: 0.8803 - val_loss: 0.0993 - val_accuracy: 0.8825\n",
            "Epoch 6/20\n",
            "30/30 [==============================] - 1s 18ms/step - loss: 0.0960 - accuracy: 0.9000 - val_loss: 0.0992 - val_accuracy: 0.8830\n",
            "Epoch 7/20\n",
            "30/30 [==============================] - 1s 18ms/step - loss: 0.0837 - accuracy: 0.9177 - val_loss: 0.1056 - val_accuracy: 0.8811\n",
            "Epoch 8/20\n",
            "30/30 [==============================] - 1s 17ms/step - loss: 0.0757 - accuracy: 0.9277 - val_loss: 0.1032 - val_accuracy: 0.8841\n",
            "Epoch 9/20\n",
            "30/30 [==============================] - 1s 22ms/step - loss: 0.0688 - accuracy: 0.9355 - val_loss: 0.1119 - val_accuracy: 0.8752\n",
            "Epoch 10/20\n",
            "30/30 [==============================] - 1s 19ms/step - loss: 0.0617 - accuracy: 0.9452 - val_loss: 0.1072 - val_accuracy: 0.8831\n",
            "Epoch 11/20\n",
            "30/30 [==============================] - 1s 19ms/step - loss: 0.0593 - accuracy: 0.9485 - val_loss: 0.1106 - val_accuracy: 0.8818\n",
            "Epoch 12/20\n",
            "30/30 [==============================] - 1s 18ms/step - loss: 0.0525 - accuracy: 0.9575 - val_loss: 0.1140 - val_accuracy: 0.8800\n",
            "Epoch 13/20\n",
            "30/30 [==============================] - 1s 17ms/step - loss: 0.0507 - accuracy: 0.9582 - val_loss: 0.1125 - val_accuracy: 0.8811\n",
            "Epoch 14/20\n",
            "30/30 [==============================] - 1s 17ms/step - loss: 0.0477 - accuracy: 0.9610 - val_loss: 0.1150 - val_accuracy: 0.8802\n",
            "Epoch 15/20\n",
            "30/30 [==============================] - 1s 17ms/step - loss: 0.0455 - accuracy: 0.9643 - val_loss: 0.1157 - val_accuracy: 0.8781\n",
            "Epoch 16/20\n",
            "30/30 [==============================] - 1s 17ms/step - loss: 0.0439 - accuracy: 0.9657 - val_loss: 0.1141 - val_accuracy: 0.8802\n",
            "Epoch 17/20\n",
            "30/30 [==============================] - 1s 18ms/step - loss: 0.0412 - accuracy: 0.9692 - val_loss: 0.1154 - val_accuracy: 0.8801\n",
            "Epoch 18/20\n",
            "30/30 [==============================] - 1s 18ms/step - loss: 0.0421 - accuracy: 0.9680 - val_loss: 0.1153 - val_accuracy: 0.8806\n",
            "Epoch 19/20\n",
            "30/30 [==============================] - 1s 18ms/step - loss: 0.0409 - accuracy: 0.9693 - val_loss: 0.1159 - val_accuracy: 0.8807\n",
            "Epoch 20/20\n",
            "30/30 [==============================] - 1s 17ms/step - loss: 0.0385 - accuracy: 0.9705 - val_loss: 0.1187 - val_accuracy: 0.8778\n"
          ]
        },
        {
          "output_type": "execute_result",
          "data": {
            "text/plain": [
              "dict_keys(['loss', 'accuracy', 'val_loss', 'val_accuracy'])"
            ]
          },
          "metadata": {},
          "execution_count": 87
        }
      ]
    },
    {
      "cell_type": "code",
      "source": [
        "loss_values = history_dict_Hyper[\"loss\"]\n",
        "val_loss_values = history_dict_Hyper[\"val_loss\"]\n",
        "epochs = range(1, len(loss_values) + 1)\n",
        "plt.plot(epochs, loss_values, \"bo\", label=\"Training loss\")\n",
        "plt.plot(epochs, val_loss_values, \"b\", label=\"Validation loss\")\n",
        "plt.title(\"Training and validation loss\")\n",
        "plt.xlabel(\"Epochs\")\n",
        "plt.ylabel(\"Loss\")\n",
        "plt.legend()\n",
        "plt.show()"
      ],
      "metadata": {
        "colab": {
          "base_uri": "https://localhost:8080/",
          "height": 295
        },
        "id": "ocBb4ZtNR-FD",
        "outputId": "aa843dbf-c296-4f73-c886-50397390b120"
      },
      "execution_count": null,
      "outputs": [
        {
          "output_type": "display_data",
          "data": {
            "text/plain": [
              "<Figure size 432x288 with 1 Axes>"
            ],
            "image/png": "[encoded data removed]"
          },
          "metadata": {
            "needs_background": "light"
          }
        }
      ]
    },
    {
      "cell_type": "code",
      "source": [
        "plt.clf()\n",
        "acc = history_dict_Hyper[\"accuracy\"]\n",
        "val_acc = history_dict_Hyper[\"val_accuracy\"]\n",
        "plt.plot(epochs, acc, \"bo\", label=\"Training acc\")\n",
        "plt.plot(epochs, val_acc, \"b\", label=\"Validation acc\")\n",
        "plt.title(\"Training and validation accuracy\")\n",
        "plt.xlabel(\"Epochs\")\n",
        "plt.ylabel(\"Accuracy\")\n",
        "plt.legend()\n",
        "plt.show()"
      ],
      "metadata": {
        "colab": {
          "base_uri": "https://localhost:8080/",
          "height": 295
        },
        "id": "kTgpnTy2SAP0",
        "outputId": "eba0aeac-76f9-443c-8af8-70eb1c2dfb43"
      },
      "execution_count": null,
      "outputs": [
        {
          "output_type": "display_data",
          "data": {
            "text/plain": [
              "<Figure size 432x288 with 1 Axes>"
            ],
            "image/png": "[encoded data removed]"
          },
          "metadata": {
            "needs_background": "light"
          }
        }
      ]
    },
    {
      "cell_type": "code",
      "source": [
        "model_Hyper.fit(x_train, y_train, epochs=8, batch_size=512)\n",
        "results_Hyper = model_Hyper.evaluate(x_test, y_test)\n",
        "results_Hyper"
      ],
      "metadata": {
        "colab": {
          "base_uri": "https://localhost:8080/"
        },
        "id": "S9pAzMVDSEBM",
        "outputId": "7209225c-c0ed-441d-c3d2-7659c05a6141"
      },
      "execution_count": null,
      "outputs": [
        {
          "output_type": "stream",
          "name": "stdout",
          "text": [
            "Epoch 1/8\n",
            "49/49 [==============================] - 1s 11ms/step - loss: 0.0736 - accuracy: 0.9285\n",
            "Epoch 2/8\n",
            "49/49 [==============================] - 1s 11ms/step - loss: 0.0665 - accuracy: 0.9365\n",
            "Epoch 3/8\n",
            "49/49 [==============================] - 1s 11ms/step - loss: 0.0627 - accuracy: 0.9411\n",
            "Epoch 4/8\n",
            "49/49 [==============================] - 1s 11ms/step - loss: 0.0580 - accuracy: 0.9464\n",
            "Epoch 5/8\n",
            "49/49 [==============================] - 1s 11ms/step - loss: 0.0559 - accuracy: 0.9488\n",
            "Epoch 6/8\n",
            "49/49 [==============================] - 1s 11ms/step - loss: 0.0524 - accuracy: 0.9529\n",
            "Epoch 7/8\n",
            "49/49 [==============================] - 1s 11ms/step - loss: 0.0505 - accuracy: 0.9552\n",
            "Epoch 8/8\n",
            "49/49 [==============================] - 1s 11ms/step - loss: 0.0489 - accuracy: 0.9572\n",
            "782/782 [==============================] - 2s 2ms/step - loss: 0.1127 - accuracy: 0.8807\n"
          ]
        },
        {
          "output_type": "execute_result",
          "data": {
            "text/plain": [
              "[0.11273709684610367, 0.8806800246238708]"
            ]
          },
          "metadata": {},
          "execution_count": 90
        }
      ]
    },
    {
      "cell_type": "markdown",
      "source": [
        "##Summary##"
      ],
      "metadata": {
        "id": "cPopJrlCz_sJ"
      }
    },
    {
      "cell_type": "code",
      "source": [
        "All_Models_Loss= np.array([results_Dropout[0],results_Hyper[0],results_MSE[0],results_regularization[0],results_tanh[0]])*100\n",
        "All_Models_Loss\n",
        "All_Models_Accuracy= np.array([results_Dropout[1],results_Hyper[1],results_MSE[1],results_regularization[1],results_tanh[1]])*100\n",
        "All_Models_Accuracy\n",
        "Labels=['Model_Dropout','Model_Hyper','Model_MSE','model_regularization','model_tanh']\n",
        "plt.clf()"
      ],
      "metadata": {
        "colab": {
          "base_uri": "https://localhost:8080/",
          "height": 35
        },
        "id": "LIKsZI9VSGJ1",
        "outputId": "59455d4c-53a6-48a6-dddb-677e74b71295"
      },
      "execution_count": null,
      "outputs": [
        {
          "output_type": "display_data",
          "data": {
            "text/plain": [
              "<Figure size 432x288 with 0 Axes>"
            ]
          },
          "metadata": {}
        }
      ]
    },
    {
      "cell_type": "markdown",
      "source": [
        "##Compilation##"
      ],
      "metadata": {
        "id": "MLXj4h7c0BWS"
      }
    },
    {
      "cell_type": "code",
      "source": [
        "fig, ax = plt.subplots()\n",
        "ax.scatter(All_Models_Loss,All_Models_Accuracy)\n",
        "for i, txt in enumerate(Labels):\n",
        "    ax.annotate(txt, (All_Models_Loss[i],All_Models_Accuracy[i] ))\n",
        "plt.title(\"Summary for Accuracy and Loss of the Model\")\n",
        "plt.ylabel(\"Accuracy\")\n",
        "plt.xlabel(\"Loss\")\n",
        "\n",
        "plt.show()"
      ],
      "metadata": {
        "colab": {
          "base_uri": "https://localhost:8080/",
          "height": 295
        },
        "id": "EvlmVBYxSGml",
        "outputId": "f77bb8fe-b0c1-4d83-9be5-616689736718"
      },
      "execution_count": null,
      "outputs": [
        {
          "output_type": "display_data",
          "data": {
            "text/plain": [
              "<Figure size 432x288 with 1 Axes>"
            ],
            "image/png": "[encoded data removed]"
          },
          "metadata": {
            "needs_background": "light"
          }
        }
      ]
    },
    {
      "cell_type": "markdown",
      "source": [
        "***Methodology: We began by importing the data and specifying the maximum number of words to be examined in each review as well as the maximum length of each review. Next we created a basic neural network model with one hidden layer of 16 units. The hidden layer's loss function was binary crossentropy, and its activation function was relu.***\n",
        "\n",
        "***We then investigated several techniques to improving the model's performance. We began by experimenting with the amount of hidden layers, creating models with one, two, and three hidden layers. For the training and test datasets, we trained and assessed the models, then compared the results. When compared to utilizing one hidden layer, we discovered that having three hidden layers resulted in somewhat greater validation and test accuracy.***\n",
        "\n",
        "***Next, we experimented with layers with more or fewer concealed units, especially 32, 64, and 128 units. We trained and tested the models with varying numbers of hidden units and showed the validation accuracy for each model. We discovered that increasing the number of hidden units typically resulted in improved validation and test accuracy, but that increasing the number of hidden units too much might result in overfitting.***\n",
        "\n",
        "***We then tried using the mse loss function instead of binary crossentropy. We trained and tested the model using mse loss and compared the results to the baseline model. We discovered that employing mse loss had no effect on the model's performance.***\n",
        "\n",
        "***Lastly, we attempted dropout regularization to prevent overfitting. We created a new model with dropout layers and trained and tested it on training and test datasets. When compared to the baseline model, we discovered that employing dropout regularization resulted in greater validation accuracy. It may be established that different neural network model modifications have variable levels of accuracy and loss. The Model Hyper had the best accuracy and loss, implying that using three thick layers with a dropout rate of 0.5 can result in ideal performance for the IMDB dataset. As compared to binary cross-entropy, the MSE loss function had the lowest loss value. Because of the diminishing gradient, the tanh activation function has a reduced accuracy. For calculating the model, the Adam optimizer function was discovered to be efficient. Regularization decreased overfitting and resulted in fewer losses, with the L-2 model marginally more accurate. Eventually, the dropout strategy lowered the loss function while maintaining accuracy. According to the graph, the Model Hyper has the highest accuracy with a reasonable loss. Model MSE has the lowest loss value but is not as precise as Model Hyper. Model tanh has low accuracy in comparison to other models, while model regularization has a large loss and low accuracy in comparison to other models. As a result, we may infer that the Model Hyper model outperforms the others tested.***"
      ],
      "metadata": {
        "id": "0sqal-LL0EPt"
      }
    }
  ]
}